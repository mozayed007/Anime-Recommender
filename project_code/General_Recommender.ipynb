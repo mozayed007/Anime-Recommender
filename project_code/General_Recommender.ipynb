{
  "cells": [
    {
      "cell_type": "markdown",
      "id": "e07a14e7",
      "metadata": {
        "id": "e07a14e7",
        "pycharm": {
          "name": "#%% md\n"
        }
      },
      "source": [
        "# **1-Dataset Analysis:**\n"
      ]
    },
    {
      "cell_type": "markdown",
      "id": "3d67f80f",
      "metadata": {
        "id": "3d67f80f",
        "pycharm": {
          "name": "#%% md\n"
        }
      },
      "source": [
        "## *i) Cleaning Dataset:* <br />\n",
        "   Jan 23 Last edits"
      ]
    },
    {
      "cell_type": "markdown",
      "id": "bc326491",
      "metadata": {
        "id": "bc326491"
      },
      "source": [
        "Latest check 30th of Jan. 2023 at 5:00PM"
      ]
    },
    {
      "cell_type": "markdown",
      "id": "e3dcbc79",
      "metadata": {
        "id": "e3dcbc79",
        "pycharm": {
          "name": "#%% md\n"
        }
      },
      "source": [
        "### **Importings:**"
      ]
    },
    {
      "cell_type": "code",
<<<<<<< HEAD
      "execution_count": null,
=======
      "execution_count": 19,
>>>>>>> b2960832716182477e3c84ca307b2457a23be274
      "id": "8b1879af-3046-4b04-ba44-5921bd475314",
      "metadata": {
        "id": "8b1879af-3046-4b04-ba44-5921bd475314",
        "pycharm": {
          "name": "#%%\n"
        }
      },
      "outputs": [],
      "source": [
        "import matplotlib.pyplot as plt\n",
        "import seaborn as sns\n",
        "import numpy as np\n",
        "import pandas as pd\n",
        "from datetime import datetime \n",
        "from mpl_toolkits.mplot3d import Axes3D\n",
        "from sklearn.preprocessing import StandardScaler\n",
        "import plotly.express as px\n",
        "from ast import literal_eval\n",
        "\n",
        "\n"
      ]
    },
    {
      "cell_type": "code",
<<<<<<< HEAD
      "execution_count": null,
=======
      "execution_count": 20,
>>>>>>> b2960832716182477e3c84ca307b2457a23be274
      "id": "aa08999a",
      "metadata": {
        "id": "aa08999a",
        "outputId": "95aafdc4-e06b-4dd4-b2f2-8342e14cdc59",
        "pycharm": {
          "name": "#%%\n"
        }
      },
<<<<<<< HEAD
      "outputs": [],
=======
      "outputs": [
        {
          "name": "stdout",
          "output_type": "stream",
          "text": [
            "(23936, 31)\n"
          ]
        },
        {
          "data": {
            "text/html": [
              "<div>\n",
              "<style scoped>\n",
              "    .dataframe tbody tr th:only-of-type {\n",
              "        vertical-align: middle;\n",
              "    }\n",
              "\n",
              "    .dataframe tbody tr th {\n",
              "        vertical-align: top;\n",
              "    }\n",
              "\n",
              "    .dataframe thead th {\n",
              "        text-align: right;\n",
              "    }\n",
              "</style>\n",
              "<table border=\"1\" class=\"dataframe\">\n",
              "  <thead>\n",
              "    <tr style=\"text-align: right;\">\n",
              "      <th></th>\n",
              "      <th>0</th>\n",
              "      <th>1</th>\n",
              "      <th>2</th>\n",
              "      <th>3</th>\n",
              "      <th>4</th>\n",
              "    </tr>\n",
              "  </thead>\n",
              "  <tbody>\n",
              "    <tr>\n",
              "      <th>id</th>\n",
              "      <td>16498</td>\n",
              "      <td>1535</td>\n",
              "      <td>5114</td>\n",
              "      <td>30276</td>\n",
              "      <td>11757</td>\n",
              "    </tr>\n",
              "    <tr>\n",
              "      <th>title</th>\n",
              "      <td>Shingeki no Kyojin</td>\n",
              "      <td>Death Note</td>\n",
              "      <td>Fullmetal Alchemist: Brotherhood</td>\n",
              "      <td>One Punch Man</td>\n",
              "      <td>Sword Art Online</td>\n",
              "    </tr>\n",
              "    <tr>\n",
              "      <th>media_type</th>\n",
              "      <td>tv</td>\n",
              "      <td>tv</td>\n",
              "      <td>tv</td>\n",
              "      <td>tv</td>\n",
              "      <td>tv</td>\n",
              "    </tr>\n",
              "    <tr>\n",
              "      <th>mean</th>\n",
              "      <td>8.53</td>\n",
              "      <td>8.62</td>\n",
              "      <td>9.11</td>\n",
              "      <td>8.5</td>\n",
              "      <td>7.2</td>\n",
              "    </tr>\n",
              "    <tr>\n",
              "      <th>num_scoring_users</th>\n",
              "      <td>2585993</td>\n",
              "      <td>2550564</td>\n",
              "      <td>1957838</td>\n",
              "      <td>2072686</td>\n",
              "      <td>2029840</td>\n",
              "    </tr>\n",
              "    <tr>\n",
              "      <th>status</th>\n",
              "      <td>finished_airing</td>\n",
              "      <td>finished_airing</td>\n",
              "      <td>finished_airing</td>\n",
              "      <td>finished_airing</td>\n",
              "      <td>finished_airing</td>\n",
              "    </tr>\n",
              "    <tr>\n",
              "      <th>num_episodes</th>\n",
              "      <td>25.0</td>\n",
              "      <td>37.0</td>\n",
              "      <td>64.0</td>\n",
              "      <td>12.0</td>\n",
              "      <td>25.0</td>\n",
              "    </tr>\n",
              "    <tr>\n",
              "      <th>start_date</th>\n",
              "      <td>2013-04-07</td>\n",
              "      <td>2006-10-04</td>\n",
              "      <td>2009-04-05</td>\n",
              "      <td>2015-10-05</td>\n",
              "      <td>2012-07-08</td>\n",
              "    </tr>\n",
              "    <tr>\n",
              "      <th>end_date</th>\n",
              "      <td>2013-09-29</td>\n",
              "      <td>2007-06-27</td>\n",
              "      <td>2010-07-04</td>\n",
              "      <td>2015-12-21</td>\n",
              "      <td>2012-12-23</td>\n",
              "    </tr>\n",
              "    <tr>\n",
              "      <th>source</th>\n",
              "      <td>manga</td>\n",
              "      <td>manga</td>\n",
              "      <td>manga</td>\n",
              "      <td>web_manga</td>\n",
              "      <td>light_novel</td>\n",
              "    </tr>\n",
              "    <tr>\n",
              "      <th>num_list_users</th>\n",
              "      <td>3635996</td>\n",
              "      <td>3612426</td>\n",
              "      <td>3078445</td>\n",
              "      <td>2971929</td>\n",
              "      <td>2887180</td>\n",
              "    </tr>\n",
              "    <tr>\n",
              "      <th>popularity</th>\n",
              "      <td>1</td>\n",
              "      <td>2</td>\n",
              "      <td>3</td>\n",
              "      <td>4</td>\n",
              "      <td>5</td>\n",
              "    </tr>\n",
              "    <tr>\n",
              "      <th>num_favorites</th>\n",
              "      <td>159231.0</td>\n",
              "      <td>163724.0</td>\n",
              "      <td>212719.0</td>\n",
              "      <td>60980.0</td>\n",
              "      <td>66037.0</td>\n",
              "    </tr>\n",
              "    <tr>\n",
              "      <th>rank</th>\n",
              "      <td>109.0</td>\n",
              "      <td>78.0</td>\n",
              "      <td>2.0</td>\n",
              "      <td>126.0</td>\n",
              "      <td>3085.0</td>\n",
              "    </tr>\n",
              "    <tr>\n",
              "      <th>average_episode_duration</th>\n",
              "      <td>0 days 00:24:00</td>\n",
              "      <td>0 days 00:23:00</td>\n",
              "      <td>0 days 00:24:20</td>\n",
              "      <td>0 days 00:24:20</td>\n",
              "      <td>0 days 00:23:40</td>\n",
              "    </tr>\n",
              "    <tr>\n",
              "      <th>rating</th>\n",
              "      <td>r</td>\n",
              "      <td>r</td>\n",
              "      <td>r</td>\n",
              "      <td>r</td>\n",
              "      <td>pg_13</td>\n",
              "    </tr>\n",
              "    <tr>\n",
              "      <th>start_season_year</th>\n",
              "      <td>2013.0</td>\n",
              "      <td>2006.0</td>\n",
              "      <td>2009.0</td>\n",
              "      <td>2015.0</td>\n",
              "      <td>2012.0</td>\n",
              "    </tr>\n",
              "    <tr>\n",
              "      <th>start_season_season</th>\n",
              "      <td>spring</td>\n",
              "      <td>fall</td>\n",
              "      <td>spring</td>\n",
              "      <td>fall</td>\n",
              "      <td>summer</td>\n",
              "    </tr>\n",
              "    <tr>\n",
              "      <th>broadcast_day_of_the_week</th>\n",
              "      <td>sunday</td>\n",
              "      <td>wednesday</td>\n",
              "      <td>sunday</td>\n",
              "      <td>monday</td>\n",
              "      <td>sunday</td>\n",
              "    </tr>\n",
              "    <tr>\n",
              "      <th>broadcast_start_time</th>\n",
              "      <td>01:58:00</td>\n",
              "      <td>00:56:00</td>\n",
              "      <td>17:00:00</td>\n",
              "      <td>01:05:00</td>\n",
              "      <td>00:00:00</td>\n",
              "    </tr>\n",
              "    <tr>\n",
              "      <th>genres</th>\n",
              "      <td>['Action', 'Award Winning', 'Drama', 'Gore', '...</td>\n",
              "      <td>['Psychological', 'Shounen', 'Supernatural', '...</td>\n",
              "      <td>['Action', 'Adventure', 'Drama', 'Fantasy', 'M...</td>\n",
              "      <td>['Action', 'Adult Cast', 'Comedy', 'Parody', '...</td>\n",
              "      <td>['Action', 'Adventure', 'Fantasy', 'Love Polyg...</td>\n",
              "    </tr>\n",
              "    <tr>\n",
              "      <th>studios</th>\n",
              "      <td>['Wit Studio']</td>\n",
              "      <td>['Madhouse']</td>\n",
              "      <td>['Bones']</td>\n",
              "      <td>['Madhouse']</td>\n",
              "      <td>['A-1 Pictures']</td>\n",
              "    </tr>\n",
              "    <tr>\n",
              "      <th>synopsis</th>\n",
              "      <td>Centuries ago, mankind was slaughtered to near...</td>\n",
              "      <td>Brutal murders, petty thefts, and senseless vi...</td>\n",
              "      <td>After a horrific alchemy experiment goes wrong...</td>\n",
              "      <td>The seemingly unimpressive Saitama has a rathe...</td>\n",
              "      <td>Ever since the release of the innovative Nerve...</td>\n",
              "    </tr>\n",
              "    <tr>\n",
              "      <th>nsfw</th>\n",
              "      <td>white</td>\n",
              "      <td>white</td>\n",
              "      <td>white</td>\n",
              "      <td>white</td>\n",
              "      <td>white</td>\n",
              "    </tr>\n",
              "    <tr>\n",
              "      <th>created_at</th>\n",
              "      <td>2012-12-05 12:03:21</td>\n",
              "      <td>2006-10-04 03:39:19</td>\n",
              "      <td>2008-08-21 03:35:22</td>\n",
              "      <td>2015-03-07 09:52:13</td>\n",
              "      <td>2011-10-09 11:25:17</td>\n",
              "    </tr>\n",
              "    <tr>\n",
              "      <th>updated_at</th>\n",
              "      <td>2023-01-12 15:12:07</td>\n",
              "      <td>2023-01-26 03:57:40</td>\n",
              "      <td>2023-01-04 14:39:14</td>\n",
              "      <td>2023-01-13 14:42:05</td>\n",
              "      <td>2022-12-30 23:42:50</td>\n",
              "    </tr>\n",
              "    <tr>\n",
              "      <th>main_picture_medium</th>\n",
              "      <td>https://api-cdn.myanimelist.net/images/anime/1...</td>\n",
              "      <td>https://api-cdn.myanimelist.net/images/anime/9...</td>\n",
              "      <td>https://api-cdn.myanimelist.net/images/anime/1...</td>\n",
              "      <td>https://api-cdn.myanimelist.net/images/anime/1...</td>\n",
              "      <td>https://api-cdn.myanimelist.net/images/anime/1...</td>\n",
              "    </tr>\n",
              "    <tr>\n",
              "      <th>main_picture_large</th>\n",
              "      <td>https://api-cdn.myanimelist.net/images/anime/1...</td>\n",
              "      <td>https://api-cdn.myanimelist.net/images/anime/9...</td>\n",
              "      <td>https://api-cdn.myanimelist.net/images/anime/1...</td>\n",
              "      <td>https://api-cdn.myanimelist.net/images/anime/1...</td>\n",
              "      <td>https://api-cdn.myanimelist.net/images/anime/1...</td>\n",
              "    </tr>\n",
              "    <tr>\n",
              "      <th>alternative_titles_en</th>\n",
              "      <td>Attack on Titan</td>\n",
              "      <td>Death Note</td>\n",
              "      <td>Fullmetal Alchemist: Brotherhood</td>\n",
              "      <td>One Punch Man</td>\n",
              "      <td>Sword Art Online</td>\n",
              "    </tr>\n",
              "    <tr>\n",
              "      <th>alternative_titles_ja</th>\n",
              "      <td>進撃の巨人</td>\n",
              "      <td>デスノート</td>\n",
              "      <td>鋼の錬金術師 FULLMETAL ALCHEMIST</td>\n",
              "      <td>ワンパンマン</td>\n",
              "      <td>ソードアート・オンライン</td>\n",
              "    </tr>\n",
              "    <tr>\n",
              "      <th>alternative_titles_synonyms</th>\n",
              "      <td>['AoT', 'SnK']</td>\n",
              "      <td>['DN']</td>\n",
              "      <td>['Hagane no Renkinjutsushi: Fullmetal Alchemis...</td>\n",
              "      <td>['One Punch-Man', 'One-Punch Man', 'OPM']</td>\n",
              "      <td>['S.A.O', 'SAO']</td>\n",
              "    </tr>\n",
              "  </tbody>\n",
              "</table>\n",
              "</div>"
            ],
            "text/plain": [
              "                                                                             0  \\\n",
              "id                                                                       16498   \n",
              "title                                                       Shingeki no Kyojin   \n",
              "media_type                                                                  tv   \n",
              "mean                                                                      8.53   \n",
              "num_scoring_users                                                      2585993   \n",
              "status                                                         finished_airing   \n",
              "num_episodes                                                              25.0   \n",
              "start_date                                                          2013-04-07   \n",
              "end_date                                                            2013-09-29   \n",
              "source                                                                   manga   \n",
              "num_list_users                                                         3635996   \n",
              "popularity                                                                   1   \n",
              "num_favorites                                                         159231.0   \n",
              "rank                                                                     109.0   \n",
              "average_episode_duration                                       0 days 00:24:00   \n",
              "rating                                                                       r   \n",
              "start_season_year                                                       2013.0   \n",
              "start_season_season                                                     spring   \n",
              "broadcast_day_of_the_week                                               sunday   \n",
              "broadcast_start_time                                                  01:58:00   \n",
              "genres                       ['Action', 'Award Winning', 'Drama', 'Gore', '...   \n",
              "studios                                                         ['Wit Studio']   \n",
              "synopsis                     Centuries ago, mankind was slaughtered to near...   \n",
              "nsfw                                                                     white   \n",
              "created_at                                                 2012-12-05 12:03:21   \n",
              "updated_at                                                 2023-01-12 15:12:07   \n",
              "main_picture_medium          https://api-cdn.myanimelist.net/images/anime/1...   \n",
              "main_picture_large           https://api-cdn.myanimelist.net/images/anime/1...   \n",
              "alternative_titles_en                                          Attack on Titan   \n",
              "alternative_titles_ja                                                    進撃の巨人   \n",
              "alternative_titles_synonyms                                     ['AoT', 'SnK']   \n",
              "\n",
              "                                                                             1  \\\n",
              "id                                                                        1535   \n",
              "title                                                               Death Note   \n",
              "media_type                                                                  tv   \n",
              "mean                                                                      8.62   \n",
              "num_scoring_users                                                      2550564   \n",
              "status                                                         finished_airing   \n",
              "num_episodes                                                              37.0   \n",
              "start_date                                                          2006-10-04   \n",
              "end_date                                                            2007-06-27   \n",
              "source                                                                   manga   \n",
              "num_list_users                                                         3612426   \n",
              "popularity                                                                   2   \n",
              "num_favorites                                                         163724.0   \n",
              "rank                                                                      78.0   \n",
              "average_episode_duration                                       0 days 00:23:00   \n",
              "rating                                                                       r   \n",
              "start_season_year                                                       2006.0   \n",
              "start_season_season                                                       fall   \n",
              "broadcast_day_of_the_week                                            wednesday   \n",
              "broadcast_start_time                                                  00:56:00   \n",
              "genres                       ['Psychological', 'Shounen', 'Supernatural', '...   \n",
              "studios                                                           ['Madhouse']   \n",
              "synopsis                     Brutal murders, petty thefts, and senseless vi...   \n",
              "nsfw                                                                     white   \n",
              "created_at                                                 2006-10-04 03:39:19   \n",
              "updated_at                                                 2023-01-26 03:57:40   \n",
              "main_picture_medium          https://api-cdn.myanimelist.net/images/anime/9...   \n",
              "main_picture_large           https://api-cdn.myanimelist.net/images/anime/9...   \n",
              "alternative_titles_en                                               Death Note   \n",
              "alternative_titles_ja                                                    デスノート   \n",
              "alternative_titles_synonyms                                             ['DN']   \n",
              "\n",
              "                                                                             2  \\\n",
              "id                                                                        5114   \n",
              "title                                         Fullmetal Alchemist: Brotherhood   \n",
              "media_type                                                                  tv   \n",
              "mean                                                                      9.11   \n",
              "num_scoring_users                                                      1957838   \n",
              "status                                                         finished_airing   \n",
              "num_episodes                                                              64.0   \n",
              "start_date                                                          2009-04-05   \n",
              "end_date                                                            2010-07-04   \n",
              "source                                                                   manga   \n",
              "num_list_users                                                         3078445   \n",
              "popularity                                                                   3   \n",
              "num_favorites                                                         212719.0   \n",
              "rank                                                                       2.0   \n",
              "average_episode_duration                                       0 days 00:24:20   \n",
              "rating                                                                       r   \n",
              "start_season_year                                                       2009.0   \n",
              "start_season_season                                                     spring   \n",
              "broadcast_day_of_the_week                                               sunday   \n",
              "broadcast_start_time                                                  17:00:00   \n",
              "genres                       ['Action', 'Adventure', 'Drama', 'Fantasy', 'M...   \n",
              "studios                                                              ['Bones']   \n",
              "synopsis                     After a horrific alchemy experiment goes wrong...   \n",
              "nsfw                                                                     white   \n",
              "created_at                                                 2008-08-21 03:35:22   \n",
              "updated_at                                                 2023-01-04 14:39:14   \n",
              "main_picture_medium          https://api-cdn.myanimelist.net/images/anime/1...   \n",
              "main_picture_large           https://api-cdn.myanimelist.net/images/anime/1...   \n",
              "alternative_titles_en                         Fullmetal Alchemist: Brotherhood   \n",
              "alternative_titles_ja                               鋼の錬金術師 FULLMETAL ALCHEMIST   \n",
              "alternative_titles_synonyms  ['Hagane no Renkinjutsushi: Fullmetal Alchemis...   \n",
              "\n",
              "                                                                             3  \\\n",
              "id                                                                       30276   \n",
              "title                                                            One Punch Man   \n",
              "media_type                                                                  tv   \n",
              "mean                                                                       8.5   \n",
              "num_scoring_users                                                      2072686   \n",
              "status                                                         finished_airing   \n",
              "num_episodes                                                              12.0   \n",
              "start_date                                                          2015-10-05   \n",
              "end_date                                                            2015-12-21   \n",
              "source                                                               web_manga   \n",
              "num_list_users                                                         2971929   \n",
              "popularity                                                                   4   \n",
              "num_favorites                                                          60980.0   \n",
              "rank                                                                     126.0   \n",
              "average_episode_duration                                       0 days 00:24:20   \n",
              "rating                                                                       r   \n",
              "start_season_year                                                       2015.0   \n",
              "start_season_season                                                       fall   \n",
              "broadcast_day_of_the_week                                               monday   \n",
              "broadcast_start_time                                                  01:05:00   \n",
              "genres                       ['Action', 'Adult Cast', 'Comedy', 'Parody', '...   \n",
              "studios                                                           ['Madhouse']   \n",
              "synopsis                     The seemingly unimpressive Saitama has a rathe...   \n",
              "nsfw                                                                     white   \n",
              "created_at                                                 2015-03-07 09:52:13   \n",
              "updated_at                                                 2023-01-13 14:42:05   \n",
              "main_picture_medium          https://api-cdn.myanimelist.net/images/anime/1...   \n",
              "main_picture_large           https://api-cdn.myanimelist.net/images/anime/1...   \n",
              "alternative_titles_en                                            One Punch Man   \n",
              "alternative_titles_ja                                                   ワンパンマン   \n",
              "alternative_titles_synonyms          ['One Punch-Man', 'One-Punch Man', 'OPM']   \n",
              "\n",
              "                                                                             4  \n",
              "id                                                                       11757  \n",
              "title                                                         Sword Art Online  \n",
              "media_type                                                                  tv  \n",
              "mean                                                                       7.2  \n",
              "num_scoring_users                                                      2029840  \n",
              "status                                                         finished_airing  \n",
              "num_episodes                                                              25.0  \n",
              "start_date                                                          2012-07-08  \n",
              "end_date                                                            2012-12-23  \n",
              "source                                                             light_novel  \n",
              "num_list_users                                                         2887180  \n",
              "popularity                                                                   5  \n",
              "num_favorites                                                          66037.0  \n",
              "rank                                                                    3085.0  \n",
              "average_episode_duration                                       0 days 00:23:40  \n",
              "rating                                                                   pg_13  \n",
              "start_season_year                                                       2012.0  \n",
              "start_season_season                                                     summer  \n",
              "broadcast_day_of_the_week                                               sunday  \n",
              "broadcast_start_time                                                  00:00:00  \n",
              "genres                       ['Action', 'Adventure', 'Fantasy', 'Love Polyg...  \n",
              "studios                                                       ['A-1 Pictures']  \n",
              "synopsis                     Ever since the release of the innovative Nerve...  \n",
              "nsfw                                                                     white  \n",
              "created_at                                                 2011-10-09 11:25:17  \n",
              "updated_at                                                 2022-12-30 23:42:50  \n",
              "main_picture_medium          https://api-cdn.myanimelist.net/images/anime/1...  \n",
              "main_picture_large           https://api-cdn.myanimelist.net/images/anime/1...  \n",
              "alternative_titles_en                                         Sword Art Online  \n",
              "alternative_titles_ja                                             ソードアート・オンライン  \n",
              "alternative_titles_synonyms                                   ['S.A.O', 'SAO']  "
            ]
          },
          "execution_count": 20,
          "metadata": {},
          "output_type": "execute_result"
        }
      ],
>>>>>>> b2960832716182477e3c84ca307b2457a23be274
      "source": [
        "data= pd.read_csv(\"../data-history/up-to-date-MAL/anime_Feb23.csv\")\n",
        "\n",
        "\n",
        "print(data.shape)\n",
        "data.head(5).T"
      ]
    },
    {
      "cell_type": "markdown",
      "id": "65024cbe",
      "metadata": {
        "id": "65024cbe",
        "pycharm": {
          "name": "#%% md\n"
        }
      },
      "source": [
        "### Taking care of nulls and drops:"
      ]
    },
    {
      "cell_type": "code",
<<<<<<< HEAD
      "execution_count": null,
=======
      "execution_count": 21,
>>>>>>> b2960832716182477e3c84ca307b2457a23be274
      "id": "e9875ecd",
      "metadata": {
        "id": "e9875ecd",
        "pycharm": {
          "name": "#%%\n"
        }
      },
      "outputs": [],
      "source": [
        "drops=[\"main_picture_medium\",\"main_picture_large\",\"broadcast_day_of_the_week\",\"broadcast_start_time\",\"alternative_titles_en\",\"alternative_titles_ja\",\"alternative_titles_synonyms\"]\n",
        "data['fav_percent'] = data['num_favorites'] / data['num_list_users']\n",
        "data_main=data.drop(drops,axis=1)[['id','title','media_type','mean','num_scoring_users','num_episodes',\"source\",'popularity','fav_percent','rank','rating',\"genres\",\"studios\",'synopsis',\"nsfw\"]]"
      ]
    },
    {
      "cell_type": "code",
<<<<<<< HEAD
      "execution_count": null,
=======
      "execution_count": 22,
>>>>>>> b2960832716182477e3c84ca307b2457a23be274
      "id": "8134a3f6",
      "metadata": {
        "id": "8134a3f6",
        "outputId": "9699a8e7-11ff-4610-d112-04874aec5cd9",
        "pycharm": {
          "name": "#%%\n"
        }
      },
<<<<<<< HEAD
      "outputs": [],
=======
      "outputs": [
        {
          "data": {
            "text/plain": [
              "id                       0\n",
              "title                    0\n",
              "media_type               0\n",
              "mean                  8794\n",
              "num_scoring_users        0\n",
              "num_episodes           566\n",
              "source                3766\n",
              "popularity               0\n",
              "fav_percent          10231\n",
              "rank                  1925\n",
              "rating                 550\n",
              "genres                   0\n",
              "studios                  0\n",
              "synopsis              4373\n",
              "nsfw                     0\n",
              "dtype: int64"
            ]
          },
          "execution_count": 22,
          "metadata": {},
          "output_type": "execute_result"
        }
      ],
>>>>>>> b2960832716182477e3c84ca307b2457a23be274
      "source": [
        "data_main.isnull().sum()"
      ]
    },
    {
      "cell_type": "code",
<<<<<<< HEAD
      "execution_count": null,
=======
      "execution_count": 23,
>>>>>>> b2960832716182477e3c84ca307b2457a23be274
      "id": "4707bde4",
      "metadata": {},
      "outputs": [],
      "source": [
        "df = data_main[data_main.synopsis.isna()]"
      ]
    },
    {
      "cell_type": "code",
<<<<<<< HEAD
      "execution_count": null,
      "id": "c8e1def6",
      "metadata": {},
      "outputs": [],
=======
      "execution_count": 24,
      "id": "c8e1def6",
      "metadata": {},
      "outputs": [
        {
          "data": {
            "text/plain": [
              "<AxesSubplot:xlabel='media_type'>"
            ]
          },
          "execution_count": 24,
          "metadata": {},
          "output_type": "execute_result"
        },
        {
          "data": {
            "image/png": "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",
            "text/plain": [
              "<Figure size 640x480 with 1 Axes>"
            ]
          },
          "metadata": {},
          "output_type": "display_data"
        }
      ],
>>>>>>> b2960832716182477e3c84ca307b2457a23be274
      "source": [
        "(df.groupby('media_type')['media_type'].count()/data_main.groupby('media_type')['media_type'].count()).plot(kind='bar')"
      ]
    },
    {
      "cell_type": "code",
<<<<<<< HEAD
      "execution_count": null,
      "id": "73b30c56",
      "metadata": {},
      "outputs": [],
=======
      "execution_count": 25,
      "id": "73b30c56",
      "metadata": {},
      "outputs": [
        {
          "data": {
            "text/plain": [
              "<AxesSubplot:xlabel='source'>"
            ]
          },
          "execution_count": 25,
          "metadata": {},
          "output_type": "execute_result"
        },
        {
          "data": {
            "image/png": "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",
            "text/plain": [
              "<Figure size 640x480 with 1 Axes>"
            ]
          },
          "metadata": {},
          "output_type": "display_data"
        }
      ],
>>>>>>> b2960832716182477e3c84ca307b2457a23be274
      "source": [
        "(df.groupby('source')['source'].count()/data_main.groupby('source')['source'].count()).plot(kind='bar')"
      ]
    },
    {
      "cell_type": "code",
<<<<<<< HEAD
      "execution_count": null,
      "id": "00324d5e",
      "metadata": {},
      "outputs": [],
=======
      "execution_count": 26,
      "id": "00324d5e",
      "metadata": {},
      "outputs": [
        {
          "data": {
            "text/plain": [
              "<AxesSubplot:xlabel='rating'>"
            ]
          },
          "execution_count": 26,
          "metadata": {},
          "output_type": "execute_result"
        },
        {
          "data": {
            "image/png": "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",
            "text/plain": [
              "<Figure size 640x480 with 1 Axes>"
            ]
          },
          "metadata": {},
          "output_type": "display_data"
        }
      ],
>>>>>>> b2960832716182477e3c84ca307b2457a23be274
      "source": [
        "(df.groupby('rating')['rating'].count()/data_main.groupby('rating')['rating'].count()).plot(kind='bar')"
      ]
    },
    {
      "cell_type": "code",
<<<<<<< HEAD
      "execution_count": null,
      "id": "9c50c434",
      "metadata": {},
      "outputs": [],
=======
      "execution_count": 27,
      "id": "9c50c434",
      "metadata": {},
      "outputs": [
        {
          "data": {
            "text/plain": [
              "<AxesSubplot:xlabel='nsfw'>"
            ]
          },
          "execution_count": 27,
          "metadata": {},
          "output_type": "execute_result"
        },
        {
          "data": {
            "image/png": "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",
            "text/plain": [
              "<Figure size 640x480 with 1 Axes>"
            ]
          },
          "metadata": {},
          "output_type": "display_data"
        }
      ],
>>>>>>> b2960832716182477e3c84ca307b2457a23be274
      "source": [
        "(df.groupby('nsfw')['nsfw'].count()/data_main.groupby('nsfw')['nsfw'].count()).plot(kind='bar')"
      ]
    },
    {
      "cell_type": "code",
<<<<<<< HEAD
      "execution_count": null,
=======
      "execution_count": 28,
>>>>>>> b2960832716182477e3c84ca307b2457a23be274
      "id": "c9faa1ea",
      "metadata": {},
      "outputs": [],
      "source": [
        "def fill_na(df,col):\n",
        "    index = df[df[col].isna()].index\n",
        "    value = np.abs(np.random.normal(loc=df[col].mean(), scale=df[col].std(), size=df[col].isna().sum()))\n",
        "    df[col] = df[col].fillna(pd.Series(value, index=index))"
      ]
    },
    {
      "cell_type": "code",
<<<<<<< HEAD
      "execution_count": null,
=======
      "execution_count": 29,
>>>>>>> b2960832716182477e3c84ca307b2457a23be274
      "id": "c4d0b3e6",
      "metadata": {
        "id": "c4d0b3e6",
        "pycharm": {
          "name": "#%%\n"
        }
      },
      "outputs": [],
      "source": [
        "fill_na(data_main,'mean')\n",
        "fill_na(data_main,'rank')\n",
        "data_main['fav_percent'] = data_main['fav_percent'].fillna(value=round(data_main['fav_percent'].mean(),3))\n",
        "data_main['num_episodes'] = data_main['num_episodes'].fillna(value=round(data_main['num_episodes'].mean()))\n",
        "data_main['source'] = data_main['source'].fillna(value=data_main['source'].mode()[0])\n",
        "data_main['rating'] = data_main['rating'].fillna(value=data_main['rating'].mode()[0])\n",
        "data_main['synopsis'] = data_main['synopsis'].fillna('')"
      ]
    },
    {
      "cell_type": "code",
<<<<<<< HEAD
      "execution_count": null,
=======
      "execution_count": 30,
>>>>>>> b2960832716182477e3c84ca307b2457a23be274
      "id": "061316ef",
      "metadata": {
        "id": "061316ef",
        "outputId": "1a48fc32-9820-4c80-bcf1-d01b928fa261"
      },
<<<<<<< HEAD
      "outputs": [],
=======
      "outputs": [
        {
          "data": {
            "text/plain": [
              "id                   0\n",
              "title                0\n",
              "media_type           0\n",
              "mean                 0\n",
              "num_scoring_users    0\n",
              "num_episodes         0\n",
              "source               0\n",
              "popularity           0\n",
              "fav_percent          0\n",
              "rank                 0\n",
              "rating               0\n",
              "genres               0\n",
              "studios              0\n",
              "synopsis             0\n",
              "nsfw                 0\n",
              "dtype: int64"
            ]
          },
          "execution_count": 30,
          "metadata": {},
          "output_type": "execute_result"
        }
      ],
>>>>>>> b2960832716182477e3c84ca307b2457a23be274
      "source": [
        "data_main.isnull().sum()\n"
      ]
    },
    {
      "cell_type": "code",
<<<<<<< HEAD
      "execution_count": null,
=======
      "execution_count": 31,
>>>>>>> b2960832716182477e3c84ca307b2457a23be274
      "id": "df0a376e",
      "metadata": {
        "id": "df0a376e",
        "outputId": "4e57dba3-68be-400d-f86b-a7dcf8d354a0"
      },
<<<<<<< HEAD
      "outputs": [],
=======
      "outputs": [
        {
          "data": {
            "text/plain": [
              "id                   23936\n",
              "title                23936\n",
              "media_type               7\n",
              "mean                  9349\n",
              "num_scoring_users     8214\n",
              "num_episodes           251\n",
              "source                  16\n",
              "popularity           23767\n",
              "fav_percent          11506\n",
              "rank                 23557\n",
              "rating                   6\n",
              "genres                5282\n",
              "studios               1488\n",
              "synopsis             19294\n",
              "nsfw                     2\n",
              "dtype: int64"
            ]
          },
          "execution_count": 31,
          "metadata": {},
          "output_type": "execute_result"
        }
      ],
>>>>>>> b2960832716182477e3c84ca307b2457a23be274
      "source": [
        "data_main.nunique()"
      ]
    },
    {
      "cell_type": "code",
<<<<<<< HEAD
      "execution_count": null,
      "id": "0af7069e",
      "metadata": {},
      "outputs": [],
=======
      "execution_count": 32,
      "id": "0af7069e",
      "metadata": {},
      "outputs": [
        {
          "data": {
            "text/plain": [
              "Index(['id', 'title', 'media_type', 'mean', 'num_scoring_users',\n",
              "       'num_episodes', 'source', 'popularity', 'fav_percent', 'rank', 'rating',\n",
              "       'genres', 'studios', 'synopsis', 'nsfw'],\n",
              "      dtype='object')"
            ]
          },
          "execution_count": 32,
          "metadata": {},
          "output_type": "execute_result"
        }
      ],
>>>>>>> b2960832716182477e3c84ca307b2457a23be274
      "source": [
        "data_main.columns"
      ]
    },
    {
      "cell_type": "markdown",
      "id": "7b047a3d",
      "metadata": {
        "id": "7b047a3d",
        "pycharm": {
          "name": "#%% md\n"
        }
      },
      "source": [
        "## Preprocessing:"
      ]
    },
    {
      "cell_type": "code",
      "execution_count": null,
      "id": "c33b9a21",
      "metadata": {
        "id": "c33b9a21",
        "pycharm": {
          "name": "#%%\n"
        }
      },
      "outputs": [],
      "source": [
        "from sklearn.feature_extraction.text import CountVectorizer\n",
        "from tqdm.notebook import tqdm\n",
        "import ast\n",
        "import re\n",
        "import spacy as sp\n",
        "from keybert import KeyBERT\n",
        "from sklearn.feature_extraction.text import TfidfVectorizer\n"
      ]
    },
    {
      "cell_type": "code",
      "execution_count": null,
      "id": "ccf05961",
      "metadata": {
        "id": "ccf05961",
        "outputId": "29d4eee1-a44a-49f6-e368-5015ef204cf9",
        "pycharm": {
          "name": "#%%\n"
        }
      },
      "outputs": [],
      "source": [
        "data_main.title.head(10)"
      ]
    },
    {
      "cell_type": "markdown",
      "id": "915f4335",
      "metadata": {
        "id": "915f4335",
        "pycharm": {
          "name": "#%% md\n"
        }
      },
      "source": [
        "## *ii)EDA:*"
      ]
    },
    {
      "cell_type": "code",
      "execution_count": null,
      "id": "9fa6177b",
      "metadata": {
        "id": "9fa6177b",
        "outputId": "c2191875-b365-4e34-89db-873939916877",
        "pycharm": {
          "name": "#%%\n"
        }
      },
      "outputs": [],
      "source": [
        "data_main.columns"
      ]
    },
    {
      "cell_type": "code",
      "execution_count": null,
      "id": "11afdf8d",
      "metadata": {},
      "outputs": [],
      "source": [
        "data_main['mean'].values[0]"
      ]
    },
    {
      "cell_type": "code",
      "execution_count": null,
      "id": "811268aa",
      "metadata": {
        "id": "811268aa",
        "outputId": "dfff3dde-1360-4e69-aecc-45e9233c751b",
        "pycharm": {
          "name": "#%%\n"
        }
      },
      "outputs": [],
      "source": [
        "sns.set_style(\"dark\")\n",
        "plt.figure(figsize=(12,6))\n",
        "plt.hist(data['mean'], bins=100)\n",
        "plt.show()"
      ]
    },
    {
      "cell_type": "code",
      "execution_count": null,
      "id": "0966f7ab",
      "metadata": {
        "id": "0966f7ab",
        "outputId": "bc16d940-38f0-4806-cdda-2ad4b06bd903",
        "pycharm": {
          "name": "#%%\n"
        }
      },
      "outputs": [],
      "source": [
        "fig = px.pie(data_main, 'media_type')\n",
        "fig.update_traces(textposition='inside', textinfo='percent+label')\n",
        "fig.show()"
      ]
    },
    {
      "cell_type": "markdown",
      "id": "da747588",
      "metadata": {
        "id": "da747588",
        "pycharm": {
          "name": "#%% md\n"
        }
      },
      "source": [
        "*Notes:* Naturally TV has higher percentage as anime media.\n"
      ]
    },
    {
      "cell_type": "code",
      "execution_count": null,
      "id": "4782830d",
      "metadata": {
        "id": "4782830d",
        "outputId": "b0451208-be14-44d0-a866-7c76d296c392",
        "pycharm": {
          "name": "#%%\n"
        }
      },
      "outputs": [],
      "source": [
        "corr = data_main.corr()\n",
        "\n",
        "# Set up the matplotlib plot configuration\n",
        "#\n",
        "f, ax = plt.subplots(figsize=(16, 10))\n",
        "#\n",
        "# Generate a mask for upper traingle\n",
        "#\n",
        "mask = np.triu(np.ones_like(corr, dtype=bool))\n",
        "#\n",
        "# Configure a custom diverging colormap\n",
        "#\n",
        "cmap = sns.diverging_palette(230, 20, as_cmap=True)\n",
        "#\n",
        "# Draw the heatmap\n",
        "#\n",
        "sns.heatmap(corr, annot=True, mask = mask, cmap=cmap)"
      ]
    },
    {
      "cell_type": "markdown",
      "id": "f20bd812",
      "metadata": {
        "id": "f20bd812",
        "pycharm": {
          "name": "#%% md\n"
        }
      },
      "source": [
        "*Notes:*  So, basically interesting factors that are affecting the mean factor are : rank, popularity, num_scoring_users, ignore num_list_users for now till further investigation of difference."
      ]
    },
    {
      "cell_type": "code",
      "execution_count": null,
      "id": "406981bb",
      "metadata": {
        "id": "406981bb",
        "outputId": "21fec757-1396-4c6e-c524-f9ceefffa356",
        "pycharm": {
          "name": "#%%\n"
        }
      },
      "outputs": [],
      "source": [
        "fig = px.histogram(data[pd.to_datetime(data['start_date']).dt.year >= 1980], x='start_date', color='media_type')\n",
        "fig.update_layout(bargap=0.1)"
      ]
    },
    {
      "cell_type": "markdown",
      "id": "4ce618da",
      "metadata": {
        "id": "4ce618da",
        "pycharm": {
          "name": "#%% md\n"
        }
      },
      "source": [
        "*Notes:* Obviously 2016 was a good year for Otakus :3 specially summer-Autumn-Fall seasons, with 119 tv, 45 movie, 23 ova, 61 ona, 60 special and 41 music. (Gotta check watching list lmao)."
      ]
    },
    {
      "cell_type": "code",
      "execution_count": null,
      "id": "5007ddac",
      "metadata": {
        "id": "5007ddac",
        "outputId": "f15d39f1-7604-491e-95c8-5c82de7b805a",
        "pycharm": {
          "name": "#%%\n"
        }
      },
      "outputs": [],
      "source": [
        "data_main.groupby('num_episodes')['id'].count().sort_values(ascending=False).head(30).plot(kind='bar', figsize=(8,6))\n",
        "plt.show()"
      ]
    },
    {
      "cell_type": "markdown",
      "id": "553dbaad",
      "metadata": {
        "id": "553dbaad",
        "pycharm": {
          "name": "#%% md\n"
        }
      },
      "source": [
        "*Notes:* A lot of Movies (1 episode) that's why the spike, but the summation of all others are the other percentages of tv,ova,ona,... etc. most tv/specials are short 12 (episodes)/(season|title). </br>\n",
        "*The fans of \"When you have eliminated the impossible\" teenager for 22+ years don't give up :(* </br>\n",
        "*Gomu Gomu no guys don't be Sadge :(*"
      ]
    },
    {
      "cell_type": "code",
      "execution_count": null,
      "id": "3fa1fb06",
      "metadata": {},
      "outputs": [],
      "source": [
        "#data_main[['title','fav_percent']].sort_values(by=['fav_percent'],ascending=False).head(30).plot(kind='bar', figsize=(15,10))\n",
        "data_main.sort_values(by=['fav_percent'],ascending=False)[1:21].plot(kind='bar',x='title',y='fav_percent');"
      ]
    },
    {
      "attachments": {},
      "cell_type": "markdown",
      "id": "ca851077",
      "metadata": {},
      "source": [
        "One Piece in the top as expected"
      ]
    },
    {
      "cell_type": "markdown",
      "id": "feaeb556",
      "metadata": {
        "id": "feaeb556"
      },
      "source": [
        "###  NLP Pre-processing"
      ]
    },
    {
      "attachments": {},
      "cell_type": "markdown",
      "id": "1ca7a94b",
      "metadata": {
        "id": "1ca7a94b",
        "pycharm": {
          "name": "#%% md\n"
        }
      },
      "source": [
        "### Synopsis Keyword Analysis:\n",
        "*(NLP)* :\n",
        "* KeyBERT.\n",
        "* Spacy.\n"
      ]
    },
    {
      "cell_type": "markdown",
      "id": "97d6c720",
      "metadata": {
        "id": "97d6c720",
        "pycharm": {
          "name": "#%% md\n"
        }
      },
      "source": [
        "* Creating clean text, nouns and keywords from synopsis.\n",
        "* Separate in new df for data analysis.\n",
        "* Delete Syns entries from main df.\n"
      ]
    },
    {
      "cell_type": "code",
      "execution_count": null,
      "id": "a7aa8b92",
      "metadata": {
        "id": "a7aa8b92",
        "outputId": "31b70f93-a7fd-4b94-dd7c-c6bc46b9522b",
        "pycharm": {
          "name": "#%%\n"
        }
      },
      "outputs": [],
      "source": [
        "NLP = sp.load(\"en_core_web_lg\")\n",
        "TITLE = 'Death Note'\n",
        "key_model = KeyBERT()\n",
        "data_main = data_main[~data_main.title.duplicated(keep='first')]\n",
        "text = data_main[data_main['title'] == TITLE].synopsis.values[0]\n",
        "def clean_text(text):\n",
        "    text = re.sub(\"[\\(\\[].*?[\\)\\]]\", \"\", text)\n",
        "    text = text.replace('\\n', \"\").replace('\\r', \"\")\n",
        "    text = text.replace('', \"\")\n",
        "    text = re.sub('[^a-zA-Z]', \" \", str(text))\n",
        "    text = ' '.join(text.split())\n",
        "    text = text.lower()\n",
        "    doc = NLP(text)\n",
        "    return doc\n",
        "\n",
        "doc = clean_text(text)\n",
        "print(doc)"
      ]
    },
    {
      "cell_type": "code",
      "execution_count": null,
      "id": "75a792fe",
      "metadata": {
        "id": "75a792fe",
        "pycharm": {
          "name": "#%%\n"
        }
      },
      "outputs": [],
      "source": [
        "data_main.loc[:,'cleaned_syn'] = data_main.loc[:,'synopsis'].astype(str).apply(clean_text)"
      ]
    },
    {
      "cell_type": "code",
      "execution_count": null,
      "id": "40453053",
      "metadata": {},
      "outputs": [],
      "source": [
        "data_main.columns"
      ]
    },
    {
      "cell_type": "code",
      "execution_count": null,
      "id": "da40e5b1",
      "metadata": {},
      "outputs": [],
      "source": [
        "df_string=data_main[['title','synopsis','cleaned_syn']]"
      ]
    },
    {
      "cell_type": "code",
<<<<<<< HEAD
      "execution_count": null,
=======
      "execution_count": 33,
>>>>>>> b2960832716182477e3c84ca307b2457a23be274
      "id": "a86ce1d7",
      "metadata": {
        "id": "a86ce1d7",
        "pycharm": {
          "name": "#%%\n"
        }
      },
      "outputs": [],
      "source": [
        "df_num=pd.get_dummies(data_main[[\"media_type\",\"source\",\"nsfw\",\"genres\",\"rating\",\"studios\"]], columns=[\"media_type\",\"source\",\"nsfw\",\"genres\",\"rating\",\"studios\"], prefix=[\"media_type\",\"source\",\"nsfw\",\"genres\",\"rating\",\"studios\"])\n",
        "df_num[['id','mean','num_scoring_users','num_episodes','popularity','fav_percent','rank']]=data_main[['id','mean','num_scoring_users','num_episodes','popularity','fav_percent','rank']]"
      ]
    },
    {
      "cell_type": "code",
      "execution_count": null,
      "id": "bb998201",
      "metadata": {
        "id": "bb998201",
        "outputId": "3382e06a-26d9-4658-814f-77ac25325425",
        "pycharm": {
          "name": "#%%\n"
        }
      },
      "outputs": [],
      "source": [
        "# Based on https://stackoverflow.com/questions/48925328/how-to-get-all-noun-phrases-in-spacy\n",
        "def get_candidates(doc):\n",
        "    # code to recursively combine nouns\n",
        "    # 'We' is actually a pronoun but included in your question\n",
        "    # hence the token.pos_ == \"PRON\" part in the last if statement\n",
        "    # suggest you extract PRON separately like the noun-chunks above\n",
        "\n",
        "    index = 0\n",
        "    noun_indices = [i for i, token in enumerate(doc) if token.pos_ == 'NOUN']\n",
        "    candidates = []\n",
        "    for idxValue in noun_indices:\n",
        "        start = doc[idxValue].left_edge.i if not bool(doc[idxValue].left_edge.ent_type_) else idxValue\n",
        "        finish = doc[idxValue].right_edge.i+1 if not bool(doc[idxValue].right_edge.ent_type_) else idxValue + 1\n",
        "        if 0 < finish-start < 7:\n",
        "            span = doc[start:finish]\n",
        "            candidates.append(span.text)\n",
        "    return candidates\n",
        "\n",
        "candidates = get_candidates(doc)\n",
        "print(candidates)\n"
      ]
    },
    {
      "cell_type": "markdown",
      "id": "9d20d476",
      "metadata": {
        "id": "9d20d476",
        "pycharm": {
          "name": "#%% md\n"
        }
      },
      "source": [
        "#### **Applying Key-BERT for Keywords extraction:**"
      ]
    },
    {
      "cell_type": "code",
      "execution_count": null,
      "id": "9e49affa",
      "metadata": {
        "id": "9e49affa",
        "outputId": "6abc6482-4215-433d-aaae-813c0db7d7c3",
        "pycharm": {
          "name": "#%%\n"
        }
      },
      "outputs": [],
      "source": [
        "key_model = KeyBERT()\n",
        "def get_keywords(doc):\n",
        "    keywords = key_model.extract_keywords(doc.text,keyphrase_ngram_range=(1, 2), candidates=candidates,stop_words='english', use_mmr=True, diversity=0.7)\n",
        "    return keywords"
      ]
    },
    {
      "cell_type": "code",
      "execution_count": null,
      "id": "80fa69e2",
      "metadata": {},
      "outputs": [],
      "source": [
        "get_keywords(doc)\n",
        "df_string.loc[:,'nouns'] = df_string.loc[:,'cleaned_syn'].apply(get_candidates)"
      ]
    },
    {
      "cell_type": "code",
      "execution_count": null,
      "id": "f53034b9",
      "metadata": {},
      "outputs": [],
      "source": [
        "df_string.loc[:,'keywords'] = df_string.loc[:,'cleaned_syn'].apply(get_keywords)"
      ]
    },
    {
      "cell_type": "code",
      "execution_count": null,
      "id": "a50b2939",
      "metadata": {
        "id": "a50b2939",
        "pycharm": {
          "name": "#%%\n"
        }
      },
      "outputs": [],
      "source": [
        "df_string.sample(20)"
      ]
    },
    {
      "cell_type": "code",
      "execution_count": null,
      "id": "7236910f",
      "metadata": {},
      "outputs": [],
      "source": [
        "df_num.shape,df_string.shape"
      ]
    },
    {
      "cell_type": "code",
      "execution_count": null,
      "id": "265a7dda",
      "metadata": {},
      "outputs": [],
      "source": [
        "df_string.sample(3)"
      ]
    },
    {
      "cell_type": "code",
      "execution_count": null,
      "id": "218fb0ad",
      "metadata": {},
      "outputs": [],
      "source": [
        "df_string.to_csv(r'M:\\Anime Recommender\\data-history\\up-to-date-MAL\\anime_string_latest.csv')"
      ]
    },
    {
      "attachments": {},
      "cell_type": "markdown",
      "id": "c315b71f",
      "metadata": {},
      "source": [
        " `df_num` is the Data Frame for the Analytical approach and distance techniques. <br />\n",
        " `df_string` is the textual Data Frame for the NLP approaches to get contextual/semantic content based recommendations."
      ]
    },
    {
      "cell_type": "markdown",
      "id": "e24b29de",
      "metadata": {
        "id": "e24b29de",
        "pycharm": {
          "name": "#%% md\n"
        }
      },
      "source": [
        "# 2- **MODELS TIME:** :3\n",
        "![image info](https://hips.hearstapps.com/hmg-prod.s3.amazonaws.com/images/gettyimages-458406992-1538405221.jpg?crop=0.9xw:0.9xh;0,0&resize=256:*) <br />\n",
        "  July's 2022 Work"
      ]
    },
    {
      "cell_type": "markdown",
      "id": "44e80289",
      "metadata": {
        "id": "44e80289",
        "pycharm": {
          "name": "#%% md\n"
        }
      },
      "source": [
        "## Similarity Analysis :"
      ]
    },
    {
      "attachments": {},
      "cell_type": "markdown",
      "id": "e0c466a5",
      "metadata": {},
      "source": [
        "### Similarity Analysis Using The Numerical Features"
      ]
    },
    {
      "attachments": {},
      "cell_type": "markdown",
      "id": "91d9f1d6",
      "metadata": {},
      "source": [
        "#### Model 1 :  Nearest Neighbors"
      ]
    },
    {
      "cell_type": "code",
<<<<<<< HEAD
      "execution_count": null,
=======
      "execution_count": 34,
>>>>>>> b2960832716182477e3c84ca307b2457a23be274
      "id": "3a354946",
      "metadata": {},
      "outputs": [],
      "source": [
        "from sklearn.neighbors import KDTree\n",
        "from sklearn.neighbors import NearestNeighbors\n",
        "from sklearn.neighbors import BallTree\n",
        "scaler = StandardScaler()\n",
        "scaler.fit(df_num.drop(['id'],axis=1).to_numpy())\n",
        "\n",
        "X = scaler.transform(df_num.drop(['id'],axis=1).to_numpy())"
      ]
    },
    {
      "cell_type": "code",
<<<<<<< HEAD
      "execution_count": null,
      "id": "3e258982",
      "metadata": {},
      "outputs": [],
      "source": [
        "kdt = KDTree(X, metric='euclidean')\n",
        "indices = kdt.query(X, k=15, return_distance=False)"
      ]
    },
    {
      "cell_type": "code",
      "execution_count": null,
=======
      "execution_count": 35,
>>>>>>> b2960832716182477e3c84ca307b2457a23be274
      "id": "e9d9373d",
      "metadata": {},
      "outputs": [],
      "source": [
        "def get_item_recommendations(anime_title, anime_idx=-1):\n",
        "    if anime_idx == -1:     \n",
        "        anime_idx = data_main[data_main['title'] == anime_title].index[0]\n",
        "    return data_main.iloc[indices[anime_idx][1:]]"
      ]
    },
    {
      "cell_type": "code",
<<<<<<< HEAD
      "execution_count": null,
      "id": "cf7bc480",
      "metadata": {},
      "outputs": [],
=======
      "execution_count": 36,
      "id": "5debdedb",
      "metadata": {},
      "outputs": [],
      "source": [
        "nbrs = NearestNeighbors(n_neighbors=15, algorithm='auto',metric = 'euclidean').fit(X)\n",
        "_, indices = nbrs.kneighbors(X)"
      ]
    },
    {
      "cell_type": "code",
      "execution_count": 37,
      "id": "2b8a3e54",
      "metadata": {},
      "outputs": [
        {
          "data": {
            "text/html": [
              "<div>\n",
              "<style scoped>\n",
              "    .dataframe tbody tr th:only-of-type {\n",
              "        vertical-align: middle;\n",
              "    }\n",
              "\n",
              "    .dataframe tbody tr th {\n",
              "        vertical-align: top;\n",
              "    }\n",
              "\n",
              "    .dataframe thead th {\n",
              "        text-align: right;\n",
              "    }\n",
              "</style>\n",
              "<table border=\"1\" class=\"dataframe\">\n",
              "  <thead>\n",
              "    <tr style=\"text-align: right;\">\n",
              "      <th></th>\n",
              "      <th>id</th>\n",
              "      <th>title</th>\n",
              "      <th>media_type</th>\n",
              "      <th>mean</th>\n",
              "      <th>num_scoring_users</th>\n",
              "      <th>num_episodes</th>\n",
              "      <th>source</th>\n",
              "      <th>popularity</th>\n",
              "      <th>fav_percent</th>\n",
              "      <th>rank</th>\n",
              "      <th>rating</th>\n",
              "      <th>genres</th>\n",
              "      <th>studios</th>\n",
              "      <th>synopsis</th>\n",
              "      <th>nsfw</th>\n",
              "    </tr>\n",
              "  </thead>\n",
              "  <tbody>\n",
              "    <tr>\n",
              "      <th>33</th>\n",
              "      <td>21881</td>\n",
              "      <td>Sword Art Online II</td>\n",
              "      <td>tv</td>\n",
              "      <td>6.700000</td>\n",
              "      <td>1260784</td>\n",
              "      <td>24.0</td>\n",
              "      <td>light_novel</td>\n",
              "      <td>34</td>\n",
              "      <td>0.004916</td>\n",
              "      <td>5510.00000</td>\n",
              "      <td>pg_13</td>\n",
              "      <td>['Action', 'Adventure', 'Fantasy', 'Love Polyg...</td>\n",
              "      <td>['A-1 Pictures']</td>\n",
              "      <td>A year after escaping Sword Art Online, Kazuto...</td>\n",
              "      <td>white</td>\n",
              "    </tr>\n",
              "    <tr>\n",
              "      <th>4313</th>\n",
              "      <td>53529</td>\n",
              "      <td>Sword Art Online (Original Movie)</td>\n",
              "      <td>movie</td>\n",
              "      <td>6.250559</td>\n",
              "      <td>0</td>\n",
              "      <td>15.0</td>\n",
              "      <td>light_novel</td>\n",
              "      <td>4314</td>\n",
              "      <td>0.001911</td>\n",
              "      <td>2178.34906</td>\n",
              "      <td>pg_13</td>\n",
              "      <td>['Action', 'Adventure', 'Fantasy', 'Love Polyg...</td>\n",
              "      <td>[]</td>\n",
              "      <td></td>\n",
              "      <td>white</td>\n",
              "    </tr>\n",
              "    <tr>\n",
              "      <th>30</th>\n",
              "      <td>23755</td>\n",
              "      <td>Nanatsu no Taizai</td>\n",
              "      <td>tv</td>\n",
              "      <td>7.680000</td>\n",
              "      <td>1263708</td>\n",
              "      <td>24.0</td>\n",
              "      <td>manga</td>\n",
              "      <td>31</td>\n",
              "      <td>0.009870</td>\n",
              "      <td>1196.00000</td>\n",
              "      <td>pg_13</td>\n",
              "      <td>['Action', 'Adventure', 'Fantasy', 'Shounen']</td>\n",
              "      <td>['A-1 Pictures']</td>\n",
              "      <td>In a world similar to the European Middle Ages...</td>\n",
              "      <td>white</td>\n",
              "    </tr>\n",
              "    <tr>\n",
              "      <th>70</th>\n",
              "      <td>28121</td>\n",
              "      <td>Dungeon ni Deai wo Motomeru no wa Machigatteir...</td>\n",
              "      <td>tv</td>\n",
              "      <td>7.550000</td>\n",
              "      <td>893500</td>\n",
              "      <td>13.0</td>\n",
              "      <td>light_novel</td>\n",
              "      <td>71</td>\n",
              "      <td>0.007884</td>\n",
              "      <td>1543.00000</td>\n",
              "      <td>pg_13</td>\n",
              "      <td>['Action', 'Adventure', 'Fantasy']</td>\n",
              "      <td>['J.C.Staff']</td>\n",
              "      <td>Life in the bustling city of Orario is never d...</td>\n",
              "      <td>white</td>\n",
              "    </tr>\n",
              "    <tr>\n",
              "      <th>2697</th>\n",
              "      <td>32561</td>\n",
              "      <td>Hai to Gensou no Grimgar: Furoagari no Kabe ni...</td>\n",
              "      <td>special</td>\n",
              "      <td>6.590000</td>\n",
              "      <td>28376</td>\n",
              "      <td>1.0</td>\n",
              "      <td>light_novel</td>\n",
              "      <td>2698</td>\n",
              "      <td>0.000681</td>\n",
              "      <td>6093.00000</td>\n",
              "      <td>pg_13</td>\n",
              "      <td>['Comedy']</td>\n",
              "      <td>['A-1 Pictures']</td>\n",
              "      <td>OVA episode that will expand on the ending of ...</td>\n",
              "      <td>white</td>\n",
              "    </tr>\n",
              "    <tr>\n",
              "      <th>125</th>\n",
              "      <td>34577</td>\n",
              "      <td>Nanatsu no Taizai: Imashime no Fukkatsu</td>\n",
              "      <td>tv</td>\n",
              "      <td>7.600000</td>\n",
              "      <td>658986</td>\n",
              "      <td>24.0</td>\n",
              "      <td>manga</td>\n",
              "      <td>126</td>\n",
              "      <td>0.003566</td>\n",
              "      <td>1395.00000</td>\n",
              "      <td>pg_13</td>\n",
              "      <td>['Action', 'Adventure', 'Fantasy', 'Shounen']</td>\n",
              "      <td>['A-1 Pictures']</td>\n",
              "      <td>The fierce battle between Meliodas, the captai...</td>\n",
              "      <td>white</td>\n",
              "    </tr>\n",
              "    <tr>\n",
              "      <th>5932</th>\n",
              "      <td>25117</td>\n",
              "      <td>Ryuugajou Nanana no Maizoukin: Nanana Nippon M...</td>\n",
              "      <td>special</td>\n",
              "      <td>6.530000</td>\n",
              "      <td>2154</td>\n",
              "      <td>6.0</td>\n",
              "      <td>light_novel</td>\n",
              "      <td>5933</td>\n",
              "      <td>0.000306</td>\n",
              "      <td>6493.00000</td>\n",
              "      <td>pg_13</td>\n",
              "      <td>['Comedy']</td>\n",
              "      <td>['A-1 Pictures']</td>\n",
              "      <td>Specials included on the Blu-ray/DVD volumes.</td>\n",
              "      <td>white</td>\n",
              "    </tr>\n",
              "    <tr>\n",
              "      <th>14528</th>\n",
              "      <td>45595</td>\n",
              "      <td>Baten Kaitos</td>\n",
              "      <td>music</td>\n",
              "      <td>6.880000</td>\n",
              "      <td>122</td>\n",
              "      <td>15.0</td>\n",
              "      <td>original</td>\n",
              "      <td>14532</td>\n",
              "      <td>0.002045</td>\n",
              "      <td>4599.00000</td>\n",
              "      <td>pg_13</td>\n",
              "      <td>['Music']</td>\n",
              "      <td>['A-1 Pictures']</td>\n",
              "      <td>Animated music video project directed by Wabok...</td>\n",
              "      <td>white</td>\n",
              "    </tr>\n",
              "    <tr>\n",
              "      <th>141</th>\n",
              "      <td>14513</td>\n",
              "      <td>Magi: The Labyrinth of Magic</td>\n",
              "      <td>tv</td>\n",
              "      <td>8.020000</td>\n",
              "      <td>523865</td>\n",
              "      <td>25.0</td>\n",
              "      <td>manga</td>\n",
              "      <td>142</td>\n",
              "      <td>0.008994</td>\n",
              "      <td>559.00000</td>\n",
              "      <td>pg_13</td>\n",
              "      <td>['Action', 'Adventure', 'Fantasy', 'Shounen']</td>\n",
              "      <td>['A-1 Pictures']</td>\n",
              "      <td>A Magi is a magician whose inclination toward ...</td>\n",
              "      <td>white</td>\n",
              "    </tr>\n",
              "    <tr>\n",
              "      <th>11193</th>\n",
              "      <td>37908</td>\n",
              "      <td>Senjou no Valkyria Special</td>\n",
              "      <td>special</td>\n",
              "      <td>5.480000</td>\n",
              "      <td>417</td>\n",
              "      <td>1.0</td>\n",
              "      <td>original</td>\n",
              "      <td>11195</td>\n",
              "      <td>0.004000</td>\n",
              "      <td>11697.00000</td>\n",
              "      <td>pg_13</td>\n",
              "      <td>['Comedy']</td>\n",
              "      <td>['A-1 Pictures']</td>\n",
              "      <td>Fake movie promo video. Included in the DVD vo...</td>\n",
              "      <td>white</td>\n",
              "    </tr>\n",
              "    <tr>\n",
              "      <th>4783</th>\n",
              "      <td>38958</td>\n",
              "      <td>Manga de Wakaru! Fate/Grand Order</td>\n",
              "      <td>special</td>\n",
              "      <td>7.650000</td>\n",
              "      <td>9134</td>\n",
              "      <td>1.0</td>\n",
              "      <td>game</td>\n",
              "      <td>4784</td>\n",
              "      <td>0.002667</td>\n",
              "      <td>1253.00000</td>\n",
              "      <td>pg_13</td>\n",
              "      <td>['Comedy']</td>\n",
              "      <td>['A-1 Pictures']</td>\n",
              "      <td>A short anime based on Manga de Wakaru! Fate/G...</td>\n",
              "      <td>white</td>\n",
              "    </tr>\n",
              "    <tr>\n",
              "      <th>5558</th>\n",
              "      <td>7016</td>\n",
              "      <td>Senjou no Valkyria: SenVal Theater</td>\n",
              "      <td>special</td>\n",
              "      <td>6.780000</td>\n",
              "      <td>4968</td>\n",
              "      <td>9.0</td>\n",
              "      <td>game</td>\n",
              "      <td>5559</td>\n",
              "      <td>0.000262</td>\n",
              "      <td>5084.00000</td>\n",
              "      <td>pg_13</td>\n",
              "      <td>['Comedy']</td>\n",
              "      <td>['A-1 Pictures']</td>\n",
              "      <td>Special shorts that come with the DVDs for Val...</td>\n",
              "      <td>white</td>\n",
              "    </tr>\n",
              "    <tr>\n",
              "      <th>195</th>\n",
              "      <td>18115</td>\n",
              "      <td>Magi: The Kingdom of Magic</td>\n",
              "      <td>tv</td>\n",
              "      <td>8.220000</td>\n",
              "      <td>435627</td>\n",
              "      <td>25.0</td>\n",
              "      <td>manga</td>\n",
              "      <td>196</td>\n",
              "      <td>0.009441</td>\n",
              "      <td>318.00000</td>\n",
              "      <td>pg_13</td>\n",
              "      <td>['Action', 'Adventure', 'Fantasy', 'Shounen']</td>\n",
              "      <td>['A-1 Pictures']</td>\n",
              "      <td>After celebrating their victory against Al-Tha...</td>\n",
              "      <td>white</td>\n",
              "    </tr>\n",
              "    <tr>\n",
              "      <th>15813</th>\n",
              "      <td>3073</td>\n",
              "      <td>Robby to Kerobby</td>\n",
              "      <td>tv</td>\n",
              "      <td>6.534263</td>\n",
              "      <td>54</td>\n",
              "      <td>52.0</td>\n",
              "      <td>original</td>\n",
              "      <td>15817</td>\n",
              "      <td>0.004000</td>\n",
              "      <td>15812.00000</td>\n",
              "      <td>g</td>\n",
              "      <td>['Comedy', 'Kids']</td>\n",
              "      <td>['A-1 Pictures']</td>\n",
              "      <td>A story of the adventures of Robby and Kerobby...</td>\n",
              "      <td>white</td>\n",
              "    </tr>\n",
              "  </tbody>\n",
              "</table>\n",
              "</div>"
            ],
            "text/plain": [
              "          id                                              title media_type  \\\n",
              "33     21881                                Sword Art Online II         tv   \n",
              "4313   53529                  Sword Art Online (Original Movie)      movie   \n",
              "30     23755                                  Nanatsu no Taizai         tv   \n",
              "70     28121  Dungeon ni Deai wo Motomeru no wa Machigatteir...         tv   \n",
              "2697   32561  Hai to Gensou no Grimgar: Furoagari no Kabe ni...    special   \n",
              "125    34577            Nanatsu no Taizai: Imashime no Fukkatsu         tv   \n",
              "5932   25117  Ryuugajou Nanana no Maizoukin: Nanana Nippon M...    special   \n",
              "14528  45595                                       Baten Kaitos      music   \n",
              "141    14513                       Magi: The Labyrinth of Magic         tv   \n",
              "11193  37908                         Senjou no Valkyria Special    special   \n",
              "4783   38958                  Manga de Wakaru! Fate/Grand Order    special   \n",
              "5558    7016                 Senjou no Valkyria: SenVal Theater    special   \n",
              "195    18115                         Magi: The Kingdom of Magic         tv   \n",
              "15813   3073                                   Robby to Kerobby         tv   \n",
              "\n",
              "           mean  num_scoring_users  num_episodes       source  popularity  \\\n",
              "33     6.700000            1260784          24.0  light_novel          34   \n",
              "4313   6.250559                  0          15.0  light_novel        4314   \n",
              "30     7.680000            1263708          24.0        manga          31   \n",
              "70     7.550000             893500          13.0  light_novel          71   \n",
              "2697   6.590000              28376           1.0  light_novel        2698   \n",
              "125    7.600000             658986          24.0        manga         126   \n",
              "5932   6.530000               2154           6.0  light_novel        5933   \n",
              "14528  6.880000                122          15.0     original       14532   \n",
              "141    8.020000             523865          25.0        manga         142   \n",
              "11193  5.480000                417           1.0     original       11195   \n",
              "4783   7.650000               9134           1.0         game        4784   \n",
              "5558   6.780000               4968           9.0         game        5559   \n",
              "195    8.220000             435627          25.0        manga         196   \n",
              "15813  6.534263                 54          52.0     original       15817   \n",
              "\n",
              "       fav_percent         rank rating  \\\n",
              "33        0.004916   5510.00000  pg_13   \n",
              "4313      0.001911   2178.34906  pg_13   \n",
              "30        0.009870   1196.00000  pg_13   \n",
              "70        0.007884   1543.00000  pg_13   \n",
              "2697      0.000681   6093.00000  pg_13   \n",
              "125       0.003566   1395.00000  pg_13   \n",
              "5932      0.000306   6493.00000  pg_13   \n",
              "14528     0.002045   4599.00000  pg_13   \n",
              "141       0.008994    559.00000  pg_13   \n",
              "11193     0.004000  11697.00000  pg_13   \n",
              "4783      0.002667   1253.00000  pg_13   \n",
              "5558      0.000262   5084.00000  pg_13   \n",
              "195       0.009441    318.00000  pg_13   \n",
              "15813     0.004000  15812.00000      g   \n",
              "\n",
              "                                                  genres           studios  \\\n",
              "33     ['Action', 'Adventure', 'Fantasy', 'Love Polyg...  ['A-1 Pictures']   \n",
              "4313   ['Action', 'Adventure', 'Fantasy', 'Love Polyg...                []   \n",
              "30         ['Action', 'Adventure', 'Fantasy', 'Shounen']  ['A-1 Pictures']   \n",
              "70                    ['Action', 'Adventure', 'Fantasy']     ['J.C.Staff']   \n",
              "2697                                          ['Comedy']  ['A-1 Pictures']   \n",
              "125        ['Action', 'Adventure', 'Fantasy', 'Shounen']  ['A-1 Pictures']   \n",
              "5932                                          ['Comedy']  ['A-1 Pictures']   \n",
              "14528                                          ['Music']  ['A-1 Pictures']   \n",
              "141        ['Action', 'Adventure', 'Fantasy', 'Shounen']  ['A-1 Pictures']   \n",
              "11193                                         ['Comedy']  ['A-1 Pictures']   \n",
              "4783                                          ['Comedy']  ['A-1 Pictures']   \n",
              "5558                                          ['Comedy']  ['A-1 Pictures']   \n",
              "195        ['Action', 'Adventure', 'Fantasy', 'Shounen']  ['A-1 Pictures']   \n",
              "15813                                 ['Comedy', 'Kids']  ['A-1 Pictures']   \n",
              "\n",
              "                                                synopsis   nsfw  \n",
              "33     A year after escaping Sword Art Online, Kazuto...  white  \n",
              "4313                                                      white  \n",
              "30     In a world similar to the European Middle Ages...  white  \n",
              "70     Life in the bustling city of Orario is never d...  white  \n",
              "2697   OVA episode that will expand on the ending of ...  white  \n",
              "125    The fierce battle between Meliodas, the captai...  white  \n",
              "5932       Specials included on the Blu-ray/DVD volumes.  white  \n",
              "14528  Animated music video project directed by Wabok...  white  \n",
              "141    A Magi is a magician whose inclination toward ...  white  \n",
              "11193  Fake movie promo video. Included in the DVD vo...  white  \n",
              "4783   A short anime based on Manga de Wakaru! Fate/G...  white  \n",
              "5558   Special shorts that come with the DVDs for Val...  white  \n",
              "195    After celebrating their victory against Al-Tha...  white  \n",
              "15813  A story of the adventures of Robby and Kerobby...  white  "
            ]
          },
          "execution_count": 37,
          "metadata": {},
          "output_type": "execute_result"
        }
      ],
      "source": [
        "get_item_recommendations('Sword Art Online')"
      ]
    },
    {
      "cell_type": "code",
      "execution_count": 38,
      "id": "fb1a35cc",
      "metadata": {},
      "outputs": [],
      "source": [
        "nbrs = NearestNeighbors(n_neighbors=15, algorithm='auto',metric = 'hamming').fit(X)\n",
        "_, indices = nbrs.kneighbors(X)"
      ]
    },
    {
      "cell_type": "code",
      "execution_count": 39,
      "id": "5d65a21b",
      "metadata": {},
      "outputs": [
        {
          "data": {
            "text/html": [
              "<div>\n",
              "<style scoped>\n",
              "    .dataframe tbody tr th:only-of-type {\n",
              "        vertical-align: middle;\n",
              "    }\n",
              "\n",
              "    .dataframe tbody tr th {\n",
              "        vertical-align: top;\n",
              "    }\n",
              "\n",
              "    .dataframe thead th {\n",
              "        text-align: right;\n",
              "    }\n",
              "</style>\n",
              "<table border=\"1\" class=\"dataframe\">\n",
              "  <thead>\n",
              "    <tr style=\"text-align: right;\">\n",
              "      <th></th>\n",
              "      <th>id</th>\n",
              "      <th>title</th>\n",
              "      <th>media_type</th>\n",
              "      <th>mean</th>\n",
              "      <th>num_scoring_users</th>\n",
              "      <th>num_episodes</th>\n",
              "      <th>source</th>\n",
              "      <th>popularity</th>\n",
              "      <th>fav_percent</th>\n",
              "      <th>rank</th>\n",
              "      <th>rating</th>\n",
              "      <th>genres</th>\n",
              "      <th>studios</th>\n",
              "      <th>synopsis</th>\n",
              "      <th>nsfw</th>\n",
              "    </tr>\n",
              "  </thead>\n",
              "  <tbody>\n",
              "    <tr>\n",
              "      <th>33</th>\n",
              "      <td>21881</td>\n",
              "      <td>Sword Art Online II</td>\n",
              "      <td>tv</td>\n",
              "      <td>6.70</td>\n",
              "      <td>1260784</td>\n",
              "      <td>24.0</td>\n",
              "      <td>light_novel</td>\n",
              "      <td>34</td>\n",
              "      <td>0.004916</td>\n",
              "      <td>5510.0</td>\n",
              "      <td>pg_13</td>\n",
              "      <td>['Action', 'Adventure', 'Fantasy', 'Love Polyg...</td>\n",
              "      <td>['A-1 Pictures']</td>\n",
              "      <td>A year after escaping Sword Art Online, Kazuto...</td>\n",
              "      <td>white</td>\n",
              "    </tr>\n",
              "    <tr>\n",
              "      <th>261</th>\n",
              "      <td>32901</td>\n",
              "      <td>Eromanga-sensei</td>\n",
              "      <td>tv</td>\n",
              "      <td>6.37</td>\n",
              "      <td>402679</td>\n",
              "      <td>12.0</td>\n",
              "      <td>light_novel</td>\n",
              "      <td>262</td>\n",
              "      <td>0.003931</td>\n",
              "      <td>7433.0</td>\n",
              "      <td>pg_13</td>\n",
              "      <td>['Comedy', 'Drama', 'Ecchi', 'Romance']</td>\n",
              "      <td>['A-1 Pictures']</td>\n",
              "      <td>One year ago, Sagiri Izumi became step-sibling...</td>\n",
              "      <td>white</td>\n",
              "    </tr>\n",
              "    <tr>\n",
              "      <th>1128</th>\n",
              "      <td>32962</td>\n",
              "      <td>Occultic;Nine</td>\n",
              "      <td>tv</td>\n",
              "      <td>6.90</td>\n",
              "      <td>67930</td>\n",
              "      <td>12.0</td>\n",
              "      <td>light_novel</td>\n",
              "      <td>1129</td>\n",
              "      <td>0.002389</td>\n",
              "      <td>4486.0</td>\n",
              "      <td>pg_13</td>\n",
              "      <td>['Mystery', 'Sci-Fi']</td>\n",
              "      <td>['A-1 Pictures']</td>\n",
              "      <td>A blog disproving the supernatural, co-run by ...</td>\n",
              "      <td>white</td>\n",
              "    </tr>\n",
              "    <tr>\n",
              "      <th>606</th>\n",
              "      <td>30727</td>\n",
              "      <td>Saenai Heroine no Sodatekata ♭</td>\n",
              "      <td>tv</td>\n",
              "      <td>7.77</td>\n",
              "      <td>174901</td>\n",
              "      <td>11.0</td>\n",
              "      <td>light_novel</td>\n",
              "      <td>607</td>\n",
              "      <td>0.004791</td>\n",
              "      <td>984.0</td>\n",
              "      <td>pg_13</td>\n",
              "      <td>['Comedy', 'Ecchi', 'Harem', 'Otaku Culture', ...</td>\n",
              "      <td>['A-1 Pictures']</td>\n",
              "      <td>After finally completing the first route of hi...</td>\n",
              "      <td>white</td>\n",
              "    </tr>\n",
              "    <tr>\n",
              "      <th>928</th>\n",
              "      <td>21561</td>\n",
              "      <td>Ryuugajou Nanana no Maizoukin</td>\n",
              "      <td>tv</td>\n",
              "      <td>7.13</td>\n",
              "      <td>97207</td>\n",
              "      <td>11.0</td>\n",
              "      <td>light_novel</td>\n",
              "      <td>929</td>\n",
              "      <td>0.001530</td>\n",
              "      <td>3467.0</td>\n",
              "      <td>pg_13</td>\n",
              "      <td>['Adventure', 'Comedy', 'Mystery', 'Supernatur...</td>\n",
              "      <td>['A-1 Pictures']</td>\n",
              "      <td>Nanae Island is a man-made island in the Pacif...</td>\n",
              "      <td>white</td>\n",
              "    </tr>\n",
              "    <tr>\n",
              "      <th>300</th>\n",
              "      <td>23277</td>\n",
              "      <td>Saenai Heroine no Sodatekata</td>\n",
              "      <td>tv</td>\n",
              "      <td>7.49</td>\n",
              "      <td>295992</td>\n",
              "      <td>12.0</td>\n",
              "      <td>light_novel</td>\n",
              "      <td>301</td>\n",
              "      <td>0.006701</td>\n",
              "      <td>1775.0</td>\n",
              "      <td>pg_13</td>\n",
              "      <td>['Comedy', 'Ecchi', 'Harem', 'Otaku Culture', ...</td>\n",
              "      <td>['A-1 Pictures']</td>\n",
              "      <td>Tomoya Aki, an otaku, has been obsessed with c...</td>\n",
              "      <td>white</td>\n",
              "    </tr>\n",
              "    <tr>\n",
              "      <th>477</th>\n",
              "      <td>13659</td>\n",
              "      <td>Ore no Imouto ga Konnani Kawaii Wake ga Nai.</td>\n",
              "      <td>tv</td>\n",
              "      <td>6.94</td>\n",
              "      <td>254997</td>\n",
              "      <td>13.0</td>\n",
              "      <td>light_novel</td>\n",
              "      <td>478</td>\n",
              "      <td>0.002859</td>\n",
              "      <td>4305.0</td>\n",
              "      <td>pg_13</td>\n",
              "      <td>['Comedy', 'Otaku Culture', 'Romance']</td>\n",
              "      <td>['A-1 Pictures']</td>\n",
              "      <td>The diehard otaku Kirino Kousaka has returned ...</td>\n",
              "      <td>white</td>\n",
              "    </tr>\n",
              "    <tr>\n",
              "      <th>369</th>\n",
              "      <td>14749</td>\n",
              "      <td>Ore no Kanojo to Osananajimi ga Shuraba Sugiru</td>\n",
              "      <td>tv</td>\n",
              "      <td>6.94</td>\n",
              "      <td>276158</td>\n",
              "      <td>13.0</td>\n",
              "      <td>light_novel</td>\n",
              "      <td>370</td>\n",
              "      <td>0.003376</td>\n",
              "      <td>4306.0</td>\n",
              "      <td>pg_13</td>\n",
              "      <td>['Comedy', 'Harem', 'Romance', 'School']</td>\n",
              "      <td>['A-1 Pictures']</td>\n",
              "      <td>The infidelity of Eita Kidou's parents not onl...</td>\n",
              "      <td>white</td>\n",
              "    </tr>\n",
              "    <tr>\n",
              "      <th>294</th>\n",
              "      <td>30544</td>\n",
              "      <td>Gakusen Toshi Asterisk</td>\n",
              "      <td>tv</td>\n",
              "      <td>6.83</td>\n",
              "      <td>358334</td>\n",
              "      <td>12.0</td>\n",
              "      <td>light_novel</td>\n",
              "      <td>295</td>\n",
              "      <td>0.003445</td>\n",
              "      <td>4841.0</td>\n",
              "      <td>pg_13</td>\n",
              "      <td>['Action', 'Comedy', 'Ecchi', 'Fantasy', 'Hare...</td>\n",
              "      <td>['A-1 Pictures']</td>\n",
              "      <td>In the previous century, an unprecedented disa...</td>\n",
              "      <td>white</td>\n",
              "    </tr>\n",
              "    <tr>\n",
              "      <th>489</th>\n",
              "      <td>31737</td>\n",
              "      <td>Gakusen Toshi Asterisk 2nd Season</td>\n",
              "      <td>tv</td>\n",
              "      <td>7.01</td>\n",
              "      <td>242667</td>\n",
              "      <td>12.0</td>\n",
              "      <td>light_novel</td>\n",
              "      <td>490</td>\n",
              "      <td>0.001811</td>\n",
              "      <td>4018.0</td>\n",
              "      <td>pg_13</td>\n",
              "      <td>['Action', 'Comedy', 'Ecchi', 'Fantasy', 'Hare...</td>\n",
              "      <td>['A-1 Pictures']</td>\n",
              "      <td>Gakusen Toshi Asterisk 2nd Season continues th...</td>\n",
              "      <td>white</td>\n",
              "    </tr>\n",
              "    <tr>\n",
              "      <th>1396</th>\n",
              "      <td>10278</td>\n",
              "      <td>The iDOLM@STER</td>\n",
              "      <td>tv</td>\n",
              "      <td>7.61</td>\n",
              "      <td>52051</td>\n",
              "      <td>25.0</td>\n",
              "      <td>game</td>\n",
              "      <td>1397</td>\n",
              "      <td>0.010962</td>\n",
              "      <td>1373.0</td>\n",
              "      <td>pg_13</td>\n",
              "      <td>['Comedy', 'Drama', 'Idols (Female)', 'Music']</td>\n",
              "      <td>['A-1 Pictures']</td>\n",
              "      <td>765 Production Studio manages the unique talen...</td>\n",
              "      <td>white</td>\n",
              "    </tr>\n",
              "    <tr>\n",
              "      <th>195</th>\n",
              "      <td>18115</td>\n",
              "      <td>Magi: The Kingdom of Magic</td>\n",
              "      <td>tv</td>\n",
              "      <td>8.22</td>\n",
              "      <td>435627</td>\n",
              "      <td>25.0</td>\n",
              "      <td>manga</td>\n",
              "      <td>196</td>\n",
              "      <td>0.009441</td>\n",
              "      <td>318.0</td>\n",
              "      <td>pg_13</td>\n",
              "      <td>['Action', 'Adventure', 'Fantasy', 'Shounen']</td>\n",
              "      <td>['A-1 Pictures']</td>\n",
              "      <td>After celebrating their victory against Al-Tha...</td>\n",
              "      <td>white</td>\n",
              "    </tr>\n",
              "    <tr>\n",
              "      <th>605</th>\n",
              "      <td>19369</td>\n",
              "      <td>Outbreak Company</td>\n",
              "      <td>tv</td>\n",
              "      <td>7.20</td>\n",
              "      <td>172323</td>\n",
              "      <td>12.0</td>\n",
              "      <td>light_novel</td>\n",
              "      <td>606</td>\n",
              "      <td>0.002550</td>\n",
              "      <td>3075.0</td>\n",
              "      <td>pg_13</td>\n",
              "      <td>['Comedy', 'Fantasy', 'Harem', 'Isekai', 'Otak...</td>\n",
              "      <td>['feel.']</td>\n",
              "      <td>Shinichi Kanou is a shut-in otaku with a vast ...</td>\n",
              "      <td>white</td>\n",
              "    </tr>\n",
              "    <tr>\n",
              "      <th>68</th>\n",
              "      <td>35790</td>\n",
              "      <td>Tate no Yuusha no Nariagari</td>\n",
              "      <td>tv</td>\n",
              "      <td>7.99</td>\n",
              "      <td>901879</td>\n",
              "      <td>25.0</td>\n",
              "      <td>light_novel</td>\n",
              "      <td>69</td>\n",
              "      <td>0.017465</td>\n",
              "      <td>597.0</td>\n",
              "      <td>pg_13</td>\n",
              "      <td>['Action', 'Adventure', 'Drama', 'Fantasy', 'I...</td>\n",
              "      <td>['Kinema Citrus']</td>\n",
              "      <td>The Four Cardinal Heroes are a group of ordina...</td>\n",
              "      <td>white</td>\n",
              "    </tr>\n",
              "  </tbody>\n",
              "</table>\n",
              "</div>"
            ],
            "text/plain": [
              "         id                                           title media_type  mean  \\\n",
              "33    21881                             Sword Art Online II         tv  6.70   \n",
              "261   32901                                 Eromanga-sensei         tv  6.37   \n",
              "1128  32962                                   Occultic;Nine         tv  6.90   \n",
              "606   30727                  Saenai Heroine no Sodatekata ♭         tv  7.77   \n",
              "928   21561                   Ryuugajou Nanana no Maizoukin         tv  7.13   \n",
              "300   23277                    Saenai Heroine no Sodatekata         tv  7.49   \n",
              "477   13659    Ore no Imouto ga Konnani Kawaii Wake ga Nai.         tv  6.94   \n",
              "369   14749  Ore no Kanojo to Osananajimi ga Shuraba Sugiru         tv  6.94   \n",
              "294   30544                          Gakusen Toshi Asterisk         tv  6.83   \n",
              "489   31737               Gakusen Toshi Asterisk 2nd Season         tv  7.01   \n",
              "1396  10278                                  The iDOLM@STER         tv  7.61   \n",
              "195   18115                      Magi: The Kingdom of Magic         tv  8.22   \n",
              "605   19369                                Outbreak Company         tv  7.20   \n",
              "68    35790                     Tate no Yuusha no Nariagari         tv  7.99   \n",
              "\n",
              "      num_scoring_users  num_episodes       source  popularity  fav_percent  \\\n",
              "33              1260784          24.0  light_novel          34     0.004916   \n",
              "261              402679          12.0  light_novel         262     0.003931   \n",
              "1128              67930          12.0  light_novel        1129     0.002389   \n",
              "606              174901          11.0  light_novel         607     0.004791   \n",
              "928               97207          11.0  light_novel         929     0.001530   \n",
              "300              295992          12.0  light_novel         301     0.006701   \n",
              "477              254997          13.0  light_novel         478     0.002859   \n",
              "369              276158          13.0  light_novel         370     0.003376   \n",
              "294              358334          12.0  light_novel         295     0.003445   \n",
              "489              242667          12.0  light_novel         490     0.001811   \n",
              "1396              52051          25.0         game        1397     0.010962   \n",
              "195              435627          25.0        manga         196     0.009441   \n",
              "605              172323          12.0  light_novel         606     0.002550   \n",
              "68               901879          25.0  light_novel          69     0.017465   \n",
              "\n",
              "        rank rating                                             genres  \\\n",
              "33    5510.0  pg_13  ['Action', 'Adventure', 'Fantasy', 'Love Polyg...   \n",
              "261   7433.0  pg_13            ['Comedy', 'Drama', 'Ecchi', 'Romance']   \n",
              "1128  4486.0  pg_13                              ['Mystery', 'Sci-Fi']   \n",
              "606    984.0  pg_13  ['Comedy', 'Ecchi', 'Harem', 'Otaku Culture', ...   \n",
              "928   3467.0  pg_13  ['Adventure', 'Comedy', 'Mystery', 'Supernatur...   \n",
              "300   1775.0  pg_13  ['Comedy', 'Ecchi', 'Harem', 'Otaku Culture', ...   \n",
              "477   4305.0  pg_13             ['Comedy', 'Otaku Culture', 'Romance']   \n",
              "369   4306.0  pg_13           ['Comedy', 'Harem', 'Romance', 'School']   \n",
              "294   4841.0  pg_13  ['Action', 'Comedy', 'Ecchi', 'Fantasy', 'Hare...   \n",
              "489   4018.0  pg_13  ['Action', 'Comedy', 'Ecchi', 'Fantasy', 'Hare...   \n",
              "1396  1373.0  pg_13     ['Comedy', 'Drama', 'Idols (Female)', 'Music']   \n",
              "195    318.0  pg_13      ['Action', 'Adventure', 'Fantasy', 'Shounen']   \n",
              "605   3075.0  pg_13  ['Comedy', 'Fantasy', 'Harem', 'Isekai', 'Otak...   \n",
              "68     597.0  pg_13  ['Action', 'Adventure', 'Drama', 'Fantasy', 'I...   \n",
              "\n",
              "                studios                                           synopsis  \\\n",
              "33     ['A-1 Pictures']  A year after escaping Sword Art Online, Kazuto...   \n",
              "261    ['A-1 Pictures']  One year ago, Sagiri Izumi became step-sibling...   \n",
              "1128   ['A-1 Pictures']  A blog disproving the supernatural, co-run by ...   \n",
              "606    ['A-1 Pictures']  After finally completing the first route of hi...   \n",
              "928    ['A-1 Pictures']  Nanae Island is a man-made island in the Pacif...   \n",
              "300    ['A-1 Pictures']  Tomoya Aki, an otaku, has been obsessed with c...   \n",
              "477    ['A-1 Pictures']  The diehard otaku Kirino Kousaka has returned ...   \n",
              "369    ['A-1 Pictures']  The infidelity of Eita Kidou's parents not onl...   \n",
              "294    ['A-1 Pictures']  In the previous century, an unprecedented disa...   \n",
              "489    ['A-1 Pictures']  Gakusen Toshi Asterisk 2nd Season continues th...   \n",
              "1396   ['A-1 Pictures']  765 Production Studio manages the unique talen...   \n",
              "195    ['A-1 Pictures']  After celebrating their victory against Al-Tha...   \n",
              "605           ['feel.']  Shinichi Kanou is a shut-in otaku with a vast ...   \n",
              "68    ['Kinema Citrus']  The Four Cardinal Heroes are a group of ordina...   \n",
              "\n",
              "       nsfw  \n",
              "33    white  \n",
              "261   white  \n",
              "1128  white  \n",
              "606   white  \n",
              "928   white  \n",
              "300   white  \n",
              "477   white  \n",
              "369   white  \n",
              "294   white  \n",
              "489   white  \n",
              "1396  white  \n",
              "195   white  \n",
              "605   white  \n",
              "68    white  "
            ]
          },
          "execution_count": 39,
          "metadata": {},
          "output_type": "execute_result"
        }
      ],
>>>>>>> b2960832716182477e3c84ca307b2457a23be274
      "source": [
        "get_item_recommendations('Sword Art Online')"
      ]
    },
    {
      "attachments": {},
      "cell_type": "markdown",
      "id": "f39afdbd",
      "metadata": {},
      "source": [
        "### Similarity Analysis Using The String Features"
      ]
    },
    {
      "cell_type": "code",
      "execution_count": null,
      "id": "260b0e86",
      "metadata": {
        "id": "260b0e86",
        "pycharm": {
          "name": "#%%\n"
        }
      },
      "outputs": [],
      "source": [
        "from sklearn.feature_extraction.text import TfidfVectorizer, CountVectorizer\n",
        "from sklearn.metrics.pairwise import linear_kernel, cosine_similarity\n",
        "from nltk.stem.snowball import SnowballStemmer\n",
        "from nltk.stem.wordnet import WordNetLemmatizer\n",
        "from nltk.corpus import wordnet\n"
      ]
    },
    {
      "cell_type": "code",
      "execution_count": null,
      "id": "28f89b43",
      "metadata": {
        "colab": {
          "referenced_widgets": [
            "27289459ab0c422f8f071039bf1823a1"
          ]
        },
        "id": "28f89b43",
        "outputId": "f2781b46-f5b3-445c-eaed-344c95a34ded",
        "pycharm": {
          "name": "#%%\n"
        }
      },
      "outputs": [],
      "source": [
        "# import sweetviz as sv\n",
        "# #You could specify which variable in your dataset is the target for your model creation. We can specify it using the target_feat parameter.\n",
        "# data_report = sv.analyze(data_main)\n",
        "\n"
      ]
    },
    {
      "cell_type": "code",
      "execution_count": null,
      "id": "f1d26d21",
      "metadata": {
        "id": "f1d26d21",
        "outputId": "067b8f8d-d220-4c16-9aee-f9527874ebf6",
        "pycharm": {
          "name": "#%%\n"
        }
      },
      "outputs": [],
      "source": [
        "# data_report.show_notebook(w=1500, h=900, scale=0.8)\n",
        "# data_report.show_html(scale=0.9)"
      ]
    },
    {
      "attachments": {},
      "cell_type": "markdown",
      "id": "4d88668b",
      "metadata": {
        "id": "4d88668b",
        "pycharm": {
          "name": "#%% md\n"
        }
      },
      "source": [
        "### **Cos-similarity | TFIDF:**"
      ]
    },
    {
      "cell_type": "code",
      "execution_count": null,
      "id": "dedbd7a0",
      "metadata": {
        "id": "dedbd7a0",
        "outputId": "8bd6ef11-5688-4b35-9334-5c1d88d57671",
        "pycharm": {
          "name": "#%%\n"
        }
      },
      "outputs": [],
      "source": [
        "tfidf = TfidfVectorizer(analyzer='word',ngram_range=(1, 2),min_df=0, stop_words='english')\n",
        "tfidf_matrix = tfidf.fit_transform(data['synopsis'] + data['genres'] + data['rating'] + data['studios']+data['media_type'])\n",
        "tfidf_matrix.shape"
      ]
    },
    {
      "cell_type": "markdown",
      "id": "08eac98b",
      "metadata": {
        "id": "08eac98b",
        "pycharm": {
          "name": "#%% md\n"
        }
      },
      "source": [
        "Using the Cosine Similarity to calculate a numeric quantity that denotes the similarity between two movies. \n",
        "\n",
        "$cosine(x,y) = \\frac{x. y^\\intercal}{||x||.||y||}$"
      ]
    },
    {
      "cell_type": "code",
      "execution_count": null,
      "id": "89470da8",
      "metadata": {
        "id": "89470da8",
        "pycharm": {
          "name": "#%%\n"
        }
      },
      "outputs": [],
      "source": [
        "cos_sim = linear_kernel(tfidf_matrix, tfidf_matrix)"
      ]
    },
    {
      "cell_type": "code",
      "execution_count": null,
      "id": "8d656c42",
      "metadata": {
        "id": "8d656c42",
        "pycharm": {
          "name": "#%%\n"
        }
      },
      "outputs": [],
      "source": [
        "data = data_main.reset_index()\n",
        "titles = data['title']\n",
        "indices = pd.Series(data_main.index, index=data['title'])"
      ]
    },
    {
      "cell_type": "code",
      "execution_count": null,
      "id": "fd19b9d5",
      "metadata": {
        "id": "fd19b9d5",
        "outputId": "36e0d9af-9ffd-488d-8e6d-37f637a87f66",
        "pycharm": {
          "name": "#%%\n"
        }
      },
      "outputs": [],
      "source": [
        "def get_recommendations(title):\n",
        "    idx = indices[title]\n",
        "    sim_scores = list(enumerate(cos_sim[idx]))\n",
        "    sim_scores = sorted(sim_scores, key=lambda x: x[1], reverse=True)\n",
        "    sim_scores = sim_scores[1:31]\n",
        "    anime_indices = [i[0] for i in sim_scores]\n",
        "    return titles.iloc[anime_indices]\n",
        "data['title'][3]"
      ]
    },
    {
      "cell_type": "code",
      "execution_count": null,
      "id": "e209620e",
      "metadata": {
        "id": "e209620e",
        "outputId": "6e312c15-4196-4c5a-8f8f-33998427c6e2",
        "pycharm": {
          "name": "#%%\n"
        }
      },
      "outputs": [],
      "source": [
        "cos_results=get_recommendations('Death Note').head(10)\n",
        "cos_results"
      ]
    },
    {
      "cell_type": "markdown",
      "id": "4106f59b",
      "metadata": {
        "id": "4106f59b",
        "pycharm": {
          "name": "#%% md\n"
        }
      },
      "source": [
        "Not so close recommendations but good start\n"
      ]
    },
    {
      "cell_type": "markdown",
      "id": "54189257",
      "metadata": {
        "id": "54189257",
        "pycharm": {
          "name": "#%% md\n"
        }
      },
      "source": [
        "**zenzen wakaranaaaaaiiiii !!!!!!!!!!!!!** </br>\n",
        ":\"D </br>\n",
        "pair-wise distance results not related to cosine Similarity results at all no intersections. </br>\n",
        "using keywords or using Full synopsis didn't matter for cos similarity so better for resources use keywords"
      ]
    },
    {
      "cell_type": "markdown",
      "id": "7c378393",
      "metadata": {
        "id": "7c378393",
        "pycharm": {
          "name": "#%% md\n"
        }
      },
      "source": [
        "### **RecommendNet Maybe?** :"
      ]
    },
    {
      "cell_type": "markdown",
      "id": "7f0b26d0",
      "metadata": {
        "id": "7f0b26d0"
      },
      "source": [
        "**Zenzen heiki janai :\"D , Tasukete, Dare ka tasukeeteeeeee !** <br />\n",
        "  Aug 2022 Work"
      ]
    },
    {
      "cell_type": "markdown",
      "id": "247e6f40",
      "metadata": {
        "id": "247e6f40"
      },
      "source": [
        "#### *Normal Recommender features*"
      ]
    },
    {
      "cell_type": "code",
      "execution_count": null,
      "id": "6871a874",
      "metadata": {
        "id": "6871a874",
        "pycharm": {
          "name": "#%%\n"
        }
      },
      "outputs": [],
      "source": [
        "# Callbacks\n",
        "from tensorflow.python.keras.callbacks import Callback, ModelCheckpoint, LearningRateScheduler, TensorBoard, EarlyStopping, ReduceLROnPlateau\n",
        "\n",
        "start_lr = 0.00001\n",
        "min_lr = 0.00001\n",
        "max_lr = 0.00005\n",
        "batch_size = 10000\n",
        "rampup_epochs = 5\n",
        "sustain_epochs = 0\n",
        "exp_decay = .8\n",
        "\n",
        "def lrfn(epoch):\n",
        "    if epoch < rampup_epochs:\n",
        "        return (max_lr - start_lr)/rampup_epochs * epoch + start_lr\n",
        "    elif epoch < rampup_epochs + sustain_epochs:\n",
        "        return max_lr\n",
        "    else:\n",
        "        return (max_lr - min_lr) * exp_decay**(epoch-rampup_epochs-sustain_epochs) + min_lr\n",
        "\n",
        "\n",
        "lr_callback = LearningRateScheduler(lambda epoch: lrfn(epoch), verbose=0)\n",
        "\n",
        "checkpoint_filepath = './weights.h5'\n",
        "\n",
        "model_checkpoints = ModelCheckpoint(filepath=checkpoint_filepath,\n",
        "                            save_weights_only=True,\n",
        "                            monitor='val_loss',\n",
        "                            mode='min',\n",
        "                            save_best_only=True)\n",
        "\n",
        "early_stopping = EarlyStopping(patience = 3, monitor='val_loss', \n",
        "                            mode='min', restore_best_weights=True)\n",
        "\n",
        "my_callbacks = [\n",
        "    model_checkpoints,\n",
        "    lr_callback,\n",
        "    early_stopping,   \n",
        "]"
      ]
    },
    {
      "cell_type": "code",
      "execution_count": null,
      "id": "d533cdb7",
      "metadata": {
        "id": "d533cdb7",
        "outputId": "91aec886-4e2f-48ca-858b-3dceea5b0ab3",
        "pycharm": {
          "name": "#%%\n"
        }
      },
      "outputs": [],
      "source": [
        "print(len(X_test_array[0]))\n",
        "print(len(y_test))\n"
      ]
    },
    {
      "cell_type": "code",
      "execution_count": null,
      "id": "9f0a848e",
      "metadata": {
        "id": "9f0a848e",
        "outputId": "e965f31a-b1ba-459b-87f9-887c6839476d",
        "pycharm": {
          "name": "#%%\n"
        }
      },
      "outputs": [],
      "source": [
        "# Model training\n",
        "history = model1.fit(\n",
        "    x=X_train_array,\n",
        "    y=y_train,\n",
        "    batch_size=batch_size,\n",
        "    epochs=20,\n",
        "    verbose=1,\n",
        "    validation_data=(X_test_array, y_test),\n",
        "    callbacks=my_callbacks\n",
        ")\n",
        "\n",
        "model1.load_weights(checkpoint_filepath)"
      ]
    },
    {
      "cell_type": "code",
      "execution_count": null,
      "id": "1f21adab",
      "metadata": {
        "id": "1f21adab",
        "outputId": "7873c0fb-1e76-4d6c-f952-2bdd5dee5468",
        "pycharm": {
          "name": "#%%\n"
        }
      },
      "outputs": [],
      "source": [
        "#Training results\n",
        "import matplotlib.pyplot as plt\n",
        "%matplotlib inline\n",
        "\n",
        "plt.plot(history.history[\"loss\"][0:-2])\n",
        "plt.plot(history.history[\"val_loss\"][0:-2])\n",
        "plt.title(\"model loss\")\n",
        "plt.ylabel(\"loss\")\n",
        "plt.xlabel(\"epoch\")\n",
        "plt.legend([\"train\", \"test\"], loc=\"upper left\")\n",
        "plt.show()"
      ]
    },
    {
      "cell_type": "code",
      "execution_count": null,
      "id": "7a05e281",
      "metadata": {
        "colab": {
          "referenced_widgets": [
            "927a943c968d4e0cb24c3746a0eedf41"
          ]
        },
        "id": "7a05e281",
        "outputId": "8ee593ce-3ee7-484d-ce1b-533d616a06aa",
        "pycharm": {
          "name": "#%%\n"
        }
      },
      "outputs": [],
      "source": [
        "from tqdm.keras import TqdmCallback\n",
        "\n",
        "\n",
        "history = model1.fit(\n",
        "    x=X_train_array,\n",
        "    y=y_train,\n",
        "    batch_size=batch_size,\n",
        "    epochs=30,\n",
        "    validation_data=(X_test_array, y_test),\n",
        "    verbose = 0, \n",
        "    callbacks=[TqdmCallback(verbose=0)])\n",
        "\n",
        "model1.load_weights(checkpoint_filepath)\n",
        "\n"
      ]
    },
    {
      "cell_type": "code",
      "execution_count": null,
      "id": "f87a7a83",
      "metadata": {
        "id": "f87a7a83",
        "outputId": "43567acc-f996-4573-e959-01b266b6d351",
        "pycharm": {
          "name": "#%%\n"
        }
      },
      "outputs": [],
      "source": [
        "#Training results\n",
        "import matplotlib.pyplot as plt\n",
        "%matplotlib inline\n",
        "\n",
        "plt.plot(history.history[\"loss\"][0:-2])\n",
        "plt.plot(history.history[\"val_loss\"][0:-2])\n",
        "plt.title(\"model loss\")\n",
        "plt.ylabel(\"loss\")\n",
        "plt.xlabel(\"epoch\")\n",
        "plt.legend([\"train\", \"test\"], loc=\"upper left\")\n",
        "plt.show()"
      ]
    },
    {
      "cell_type": "code",
      "execution_count": null,
      "id": "04064dde",
      "metadata": {
        "id": "04064dde",
        "pycharm": {
          "name": "#%%\n"
        }
      },
      "outputs": [],
      "source": [
        "def extract_weights(name, model):\n",
        "    weight_layer = model.get_layer(name)\n",
        "    weights = weight_layer.get_weights()[0]\n",
        "    weights = weights / np.linalg.norm(weights, axis = 1).reshape((-1, 1))\n",
        "    return weights\n",
        "\n",
        "anime_weights = extract_weights('anime_embedding', model1)\n",
        "user_weights = extract_weights('user_embedding', model1)"
      ]
    },
    {
      "cell_type": "code",
      "execution_count": null,
      "id": "58d50262",
      "metadata": {
        "id": "58d50262",
        "outputId": "4802fff6-b51f-4175-d116-d765076b1d2d",
        "pycharm": {
          "name": "#%%\n"
        }
      },
      "outputs": [],
      "source": [
        "data_main.columns"
      ]
    },
    {
      "cell_type": "code",
      "execution_count": null,
      "id": "bbe5d7a7",
      "metadata": {
        "id": "bbe5d7a7",
        "outputId": "898e1150-d462-4e6b-db9d-c02ffbbf373e",
        "pycharm": {
          "name": "#%%\n"
        }
      },
      "outputs": [],
      "source": [
        "name = data[data_main.id == 100].title.values[0]\n",
        "print(name)"
      ]
    },
    {
      "cell_type": "code",
      "execution_count": null,
      "id": "8f800769",
      "metadata": {
        "id": "8f800769",
        "pycharm": {
          "name": "#%%\n"
        }
      },
      "outputs": [],
      "source": [
        "# Fixing Names\n",
        "def get_animename(anime_id):\n",
        "    try:\n",
        "        name = data[data_main.id == anime_id].title.values[0]\n",
        "        return name\n",
        "    except:\n",
        "        print('error')\n",
        "        return 0\n",
        "\n",
        "data[\"eng_version\"] = data['title']\n",
        "\n",
        "\n",
        "data_main.sort_values(by=['mean'], \n",
        "                inplace=True,\n",
        "                ascending=False, \n",
        "                kind='quicksort',\n",
        "                na_position='last')\n",
        "\n",
        "df = data[[\"id\",\"title\", \"mean\", \"genres\", \"num_episodes\", \n",
        "        \"media_type\",\"synopsis\"]]\n",
        "\n",
        "\n",
        "def get_animeframe(anime):\n",
        "    if isinstance(anime, int):\n",
        "        return df[df.id == anime]\n",
        "    if isinstance(anime, str):\n",
        "        return df[df.title == anime]\n",
        "def get_sypnopsis(anime):\n",
        "    if isinstance(anime, int):\n",
        "        return df[df.id == anime].synopsis.values[0]"
      ]
    },
    {
      "cell_type": "code",
      "execution_count": null,
      "id": "9303a7fd",
      "metadata": {
        "id": "9303a7fd",
        "outputId": "1a303010-4a50-472a-c601-ce835de67b1a",
        "pycharm": {
          "name": "#%%\n"
        }
      },
      "outputs": [],
      "source": [
        "df.shape"
      ]
    },
    {
      "cell_type": "code",
      "execution_count": null,
      "id": "871b7023",
      "metadata": {
        "id": "871b7023",
        "pycharm": {
          "name": "#%%\n"
        }
      },
      "outputs": [],
      "source": [
        "pd.set_option(\"max_colwidth\", None)\n",
        "\n",
        "def find_similar_animes(name, n, return_dist=False, neg=False):\n",
        "        index = get_animeframe(name).id.values[0]\n",
        "        print(index)\n",
        "        encoded_index = anime2anime_encoded.get(index)\n",
        "        weights = anime_weights\n",
        "        print(encoded_index)\n",
        "        dists = np.dot(weights, weights[encoded_index])\n",
        "        sorted_dists = np.argsort(dists)\n",
        "        \n",
        "        n = n + 1            \n",
        "        \n",
        "        if neg:\n",
        "            closest = sorted_dists[:n]\n",
        "        else:\n",
        "            closest = sorted_dists[-n:]\n",
        "        print('animes closest to {}'.format(name))\n",
        "        if return_dist:\n",
        "            return dists, closest\n",
        "        rindex = df\n",
        "        similarityarr = []\n",
        "        for close in closest:\n",
        "            decoded_id = anime_encoded2anime.get(close)\n",
        "            sypnopsis = get_sypnopsis(decoded_id)\n",
        "            anime_frame = get_animeframe(decoded_id)\n",
        "            anime_name = anime_frame.title.values[0]\n",
        "            genre = anime_frame.genres.values[0]\n",
        "            similarity = dists[close]\n",
        "            similarityarr.append({\"id\": decoded_id, \"title\": anime_name,\n",
        "                            \"similarity\": similarity,\"genres\": genre,\n",
        "                            'synopsis': sypnopsis})\n",
        "        frame = pd.Dataframe(similarityarr).sort_values(by=\"similarity\", ascending=False)\n",
        "        return frame[frame.id != index].drop(['id'], axis=1)\n"
      ]
    },
    {
      "cell_type": "code",
      "execution_count": null,
      "id": "8a5a7329",
      "metadata": {
        "id": "8a5a7329",
        "outputId": "505adc9c-857f-49c8-8c55-7097a0980774",
        "pycharm": {
          "name": "#%%\n"
        }
      },
      "outputs": [],
      "source": [
        "find_similar_animes('Death Note', n=10, neg=False)"
      ]
    },
    {
      "cell_type": "markdown",
      "id": "03a7edce",
      "metadata": {
        "id": "03a7edce"
      },
      "source": [
        "#### *Features modding* <br />\n",
        "   Modifying parameters for Recommend NET"
      ]
    },
    {
      "cell_type": "code",
      "execution_count": null,
      "id": "efac23d8",
      "metadata": {
        "id": "efac23d8",
        "pycharm": {
          "name": "#%%\n"
        }
      },
      "outputs": [],
      "source": [
        "# dfdl =pd.DataFrame()"
      ]
    },
    {
      "cell_type": "code",
      "execution_count": null,
      "id": "a5f6df5b",
      "metadata": {
        "id": "a5f6df5b",
        "pycharm": {
          "name": "#%%\n"
        }
      },
      "outputs": [],
      "source": [
        "# dfdl_ids = data[\"id\"].tolist()\n",
        "# dfdlid_encoded = {x: i for i, x in enumerate(dfdl_ids)}\n",
        "# n_animes = len(dfdlid_encoded)\n",
        "# id_encoded2id = {i: x for i, x in enumerate(dfdl_ids)}\n",
        "# dfdl[\"id\"] = data[\"id\"].map(dfdlid_encoded)\n",
        "\n",
        "# dfdl_mean = data[\"mean\"].tolist()\n",
        "# dfdl_mean_encoded = {x: i for i, x in enumerate(dfdl_mean)}\n",
        "# mean_encoded2mean = {i: x for i, x in enumerate(dfdl_mean)}\n",
        "# n_users = len(dfdl_mean_encoded)\n",
        "# dfdl[\"mean\"] = data[\"mean\"].map(dfdl_mean_encoded)\n",
        "\n",
        "# dfdl_pop = data[\"popularity\"].tolist()\n",
        "# user2user_encoded = {x: i for i, x in enumerate(dfdl_pop)}\n",
        "# user_encoded2user = {i: x for i, x in enumerate(dfdl_pop)}\n",
        "# n_users = len(user2user_encoded)\n",
        "# dfdl[\"popularity\"] = data[\"popularity\"].map(user2user_encoded)"
      ]
    },
    {
      "cell_type": "code",
      "execution_count": null,
      "id": "12296c98",
      "metadata": {
        "id": "12296c98",
        "outputId": "e529fa72-6a4d-4210-b465-739ccf70e4f2"
      },
      "outputs": [],
      "source": [
        "data_main.columns, data_main.shape"
      ]
    },
    {
      "cell_type": "code",
      "execution_count": null,
      "id": "01d82a86",
      "metadata": {
        "id": "01d82a86",
        "pycharm": {
          "name": "#%%\n"
        }
      },
      "outputs": [],
      "source": [
        "\n",
        "# x1 = rdf[['user', 'anime']].values \n",
        "\n",
        "# #x2=  data[['id'],['popularity']].values\n",
        "# x3=data[['mean'],['num_scoring_users']].values\n",
        "# x4=data['rank'].tolist(),data['num_favorites'].tolist()\n",
        "# x5= df.filter(regex='^media_type_',axis=1).values[i]\n",
        "# x6= df.filter(regex='^source_',axis=1).values[i]\n",
        "\n",
        "# y = rdf[\"rating\"]\n",
        "# # Split\n",
        "# test_set_size = 250000 #10k for test set\n",
        "# train_indices = rdf_sampled.shape[0] - test_set_size \n",
        "# len(x1),len(x2),len(x2[1]),len(x3),len(x3[1]),len(x4),len(x4[1]),len(y),\n"
      ]
    },
    {
      "cell_type": "code",
      "execution_count": null,
      "id": "2ef43819",
      "metadata": {
        "id": "2ef43819",
        "pycharm": {
          "name": "#%%\n"
        }
      },
      "outputs": [],
      "source": [
        "# X3= x3[:,0] + x3[:,2] +x3[:,3] + x3[:,4] + x3[:,5] + x3[:,1] \n",
        "# X4=['None']*len(x4)*len(x4[1])\n",
        "# for i in range(len(x4[1])):\n",
        "#     X4 =X4 + x4[:,i]"
      ]
    },
    {
      "cell_type": "code",
      "execution_count": null,
      "id": "45e69923",
      "metadata": {
        "id": "45e69923",
        "pycharm": {
          "name": "#%%\n"
        }
      },
      "outputs": [],
      "source": [
        "# X1_train, X1_test, y_train, y_test = (\n",
        "#     x1[:train_indices],\n",
        "#     x1[train_indices:],\n",
        "#     y[:train_indices],\n",
        "#     y[train_indices:],\n",
        "# )"
      ]
    },
    {
      "cell_type": "markdown",
      "id": "ba2e04ac",
      "metadata": {
        "id": "ba2e04ac"
      },
      "source": [
        "### *After Reading Some Articels:*"
      ]
    },
    {
      "cell_type": "markdown",
      "id": "073252b3",
      "metadata": {
        "id": "073252b3"
      },
      "source": [
        "#### **Research at home** <br />\n",
        "   Dec. 2022 work <br />\n",
        "\n",
        "Semantic Similarity on synopsis using nlp models."
      ]
    },
    {
      "cell_type": "markdown",
      "id": "af4b48c3",
      "metadata": {
        "id": "af4b48c3"
      },
      "source": [
        "Potential Models for learning: <br />\n",
        "* paraphrase-miniLM\n",
        "* stsb-roberta latest alternatives\n",
        "* bert-base-nli-mean-tokens"
      ]
    },
    {
      "cell_type": "markdown",
      "id": "da36912d",
      "metadata": {
        "id": "da36912d"
      },
      "source": [
        "**To_Do:**\n",
        "- Get embeddings from pretrained for all synopsis ( all paragraphs ).\n",
        "- Compare Similarity using distance wise / cosine / pairwise whatever the hell will measure similarity of embeddings.\n",
        "- Worst case senario ,(For each sentence embeddings in the requested anime synopsis loop cosine similarity between all sentences in all other synopsis)\n",
        "- Optimization worth testing: Finding similarity between sentences in the same synopsis to get unique sentences and store those while ignoring sentences that are pretty much similar in embeddings, that leads to having smaller group of sentences for each synopsis to loop on (Still looping bratan).\n",
        "- 5Head IDEA: Semantic Keyword embeddings similarity analysis to get potential chosen titles to do semantic sentence analysis on.\n",
        "- **OR JUST USE PARAPHRASE MINING U Fokin IDIOT, anata BAKA ??? hontoni BAKAAAA.**"
      ]
    },
    {
      "attachments": {},
      "cell_type": "markdown",
      "id": "aeab76e7",
      "metadata": {},
      "source": [
        "## *Using Synopsis NLP:*"
      ]
    },
    {
      "attachments": {},
      "cell_type": "markdown",
      "id": "16953489",
      "metadata": {},
      "source": [
        "#### revised pytorch April 23\n"
      ]
    },
    {
      "cell_type": "code",
      "execution_count": null,
      "id": "7a38d609",
      "metadata": {},
      "outputs": [],
      "source": []
    },
    {
      "cell_type": "code",
      "execution_count": null,
      "id": "abb341fb",
      "metadata": {},
      "outputs": [],
      "source": []
    },
    {
      "attachments": {},
      "cell_type": "markdown",
      "id": "847913ee",
      "metadata": {},
      "source": [
        "#### Using the PyTorch universal encoder:"
      ]
    },
    {
      "cell_type": "code",
      "execution_count": null,
      "id": "96d2fc0f",
      "metadata": {},
      "outputs": [],
      "source": [
        "### Pytorch implementation:\n",
        "import torch\n",
        "import torch.nn as nn\n",
        "import torch.nn.functional as F\n",
        "import torch.optim as optim\n",
        "import numpy as np\n",
        "import pandas as pd\n",
        "import sentence_transformers\n",
        "from torch.utils.data import Dataset, DataLoader\n",
        "import time\n",
        "from IPython.display import display\n",
        "import sys\n",
        "import os"
      ]
    },
    {
      "cell_type": "code",
      "execution_count": null,
      "id": "f72812ec",
      "metadata": {},
      "outputs": [],
      "source": [
        "# Set the GPU as the device for PyTorch\n",
        "device = torch.device(\"cuda\" if torch.cuda.is_available() else \"cpu\")\n",
        "print(\"Using:\", device)\n"
      ]
    },
    {
      "cell_type": "code",
      "execution_count": null,
      "id": "eee91a7c",
      "metadata": {},
      "outputs": [],
      "source": [
        "# Load the UniversalSentenceEncoder model\n",
        "print(\"Loading model...\")\n",
        "model = sentence_transformers.SentenceTransformer('roberta-base')\n",
        "model = model.to(device)\n",
        "print(\"Loaded model and moved it to device.\")\n",
        "print(f\"Memory allocated: {torch.cuda.memory_allocated(device=device)/(1024**2):.2f} MB\")  # <-- add this line to check GPU memory usage"
      ]
    },
    {
      "cell_type": "code",
      "execution_count": null,
      "id": "7da3bcdf",
      "metadata": {},
      "outputs": [],
      "source": [
        "# Load the string data:\n",
        "df_string = pd.read_csv(r'M:\\Anime Recommender\\data-history\\up-to-date-MAL\\anime_string_latest.csv')\n",
        "df_string.rename(columns={\"Unnamed: 0\": \"ID\"}, inplace=True)\n",
        "df_string.dropna(inplace=True)"
      ]
    },
    {
      "cell_type": "code",
      "execution_count": null,
      "id": "be30d152",
      "metadata": {},
      "outputs": [],
      "source": [
        "# Define a function to get the text encoding using the GPU\n",
        "@torch.no_grad()\n",
        "def get_encoding(x):\n",
        "    if isinstance(x, str) and x.strip() != \"\":\n",
        "        print(f\"Encoding: {x}\", flush=True)\n",
        "        sys.stdout.flush()\n",
        "        encoding = torch.tensor(model.encode([x], show_progress_bar=True), device=device)\n",
        "        print(f\"Encoded tensor shape: {encoding.shape}\", flush=True)\n",
        "        sys.stdout.flush()\n",
        "        return encoding\n",
        "    else:\n",
        "        print(f\"Encoding: None\", flush=True)\n",
        "        sys.stdout.flush()\n",
        "        return None"
      ]
    },
    {
      "cell_type": "code",
      "execution_count": null,
      "id": "732792f7",
      "metadata": {},
      "outputs": [],
      "source": [
        "class MyDataset(Dataset):\n",
        "    def __init__(self, df, device):\n",
        "        self.df = df\n",
        "        self.device = device\n",
        "        self.df['cleaned_syn_encoding'] = self.df['cleaned_syn'].apply(get_encoding)\n",
        "\n",
        "    def __len__(self):\n",
        "        return len(self.df)\n",
        "\n",
        "    def __getitem__(self, idx):\n",
        "        return self.df['cleaned_syn_encoding'].iloc[idx]"
      ]
    },
    {
      "cell_type": "code",
      "execution_count": null,
      "id": "d1ec47e0",
      "metadata": {},
      "outputs": [],
      "source": [
        "\n",
        "from scipy.spatial import distance\n",
        "\n",
        "\n",
        "def get_top_similar(df , k):\n",
        "    # Extract the embeddings from the \"encodings\" column into a numpy array\n",
        "    embeddings = df['encodings'].to_numpy()\n",
        "    \n",
        "    # Compute pairwise cosine distances between all embeddings\n",
        "    distances = distance.pdist(embeddings, metric='cosine')\n",
        "    \n",
        "    # Convert condensed distance matrix to square distance matrix\n",
        "    dist_matrix = distance.squareform(distances)\n",
        "    \n",
        "    # Sort the distance matrix to get indices of the most similar embeddings for each embedding\n",
        "    sorted_indices = np.argsort(dist_matrix)\n",
        "    \n",
        "    # Create an empty list to hold the top \"n\" similar IDs for each embedding\n",
        "    top_n_similar_ids = []\n",
        "    \n",
        "    # Iterate through each row in the sorted_indices array and extract the top \"n\" IDs\n",
        "    for i in range(len(sorted_indices)):\n",
        "        top_n_similar_ids.append(list(df['ID'].iloc[sorted_indices[i][1:n+1]]))\n",
        "    \n",
        "    # Create a new DataFrame column called \"top_n_similar_ids\" containing the top \"n\" similar IDs for each embedding\n",
        "    df['top_n_similar_ids'] = top_n_similar_ids\n",
        "    \n",
        "    # Return the updated DataFrame\n",
        "    return df\n"
      ]
    },
    {
      "cell_type": "code",
      "execution_count": null,
      "id": "25d3728a",
      "metadata": {},
      "outputs": [],
      "source": [
        "sys.stdout.flush()\n",
        "dataset = MyDataset(df_string, device)\n",
        "dataloader = DataLoader(dataset, batch_size=64, num_workers=1, pin_memory=True)\n",
        "result = []\n",
        "for batch in dataloader:\n",
        "    with torch.cuda.amp.autocast():\n",
        "        encodings = torch.stack(batch)\n",
        "        print(f\"Memory allocated: {torch.cuda.memory_allocated(device=device)/(1024**2):.2f} MB\", flush=True)  # <-- add this line to check GPU memory usage\n",
        "        sys.stdout.flush()\n",
        "df_string['encodings'] = encodings\n"
      ]
    },
    {
      "cell_type": "code",
      "execution_count": null,
      "id": "979b79fa",
      "metadata": {},
      "outputs": [],
      "source": [
        "closest_IDs = get_top_similar( df_string,k=15) \n",
        "df_string['similar_IDs'] = result"
      ]
    },
    {
      "cell_type": "code",
      "execution_count": null,
      "id": "08cd7a89",
      "metadata": {},
      "outputs": [],
      "source": [
        "\n",
        "\n",
        "\n",
        "# Define a function to get the top k most similar IDs using PyTorch\n",
        "def get_top_k_similar_IDs(x, df, k=15):\n",
        "    encoding = x\n",
        "    if encoding is not None:\n",
        "        print(\"Computing cosine similarity distances...\", flush=True)\n",
        "        sys.stdout.flush()\n",
        "        distances = F.cosine_similarity(encoding, torch.stack(df['cleaned_syn_encoding'].values))\n",
        "        print(f\"Distances tensor shape: {distances.shape}\", flush=True)\n",
        "        sys.stdout.flush()\n",
        "        closest_paragraphs_indices = distances.argsort(descending=True)[:k + 1][1:]\n",
        "        print(f\"Top {k} indices: {closest_paragraphs_indices}\", flush=True)\n",
        "        sys.stdout.flush()\n",
        "        return df.iloc[closest_paragraphs_indices]['ID'].values\n",
        "    else:\n",
        "        print(\"Encoding is None, returning None.\", flush=True)\n",
        "        sys.stdout.flush()\n",
        "        return None\n",
        "\n",
        "\n",
        "\n",
        "# Define the function to process each chunk\n",
        "def process_chunk(chunk):\n",
        "    print(f\"Processing chunk {chunk.index[0]}-{chunk.index[-1]}...\", flush=True)\n",
        "    sys.stdout.flush()\n",
        "    dataset = MyDataset(chunk, device)\n",
        "    dataloader = DataLoader(dataset, batch_size=64, num_workers=4, pin_memory=True)\n",
        "    result = []\n",
        "    for batch in dataloader:\n",
        "        with torch.cuda.amp.autocast():\n",
        "            encodings = torch.stack(batch)\n",
        "            print(f\"Memory allocated: {torch.cuda.memory_allocated(device=device)/(1024**2):.2f} MB\", flush=True)  # <-- add this line to check GPU memory usage\n",
        "            sys.stdout.flush()\n",
        "            closest_IDs = [get_top_k_similar_IDs(encodings[i], chunk, k=15) for i in range(len(batch))]\n",
        "        result.extend(closest_IDs)\n",
        "    chunk['similar_IDs'] = result\n",
        "    print(f\"Memory allocated: {torch.cuda.memory_allocated(device=device)/(1024**2):.2f} MB\", flush=True)  # <-- add this line to check GPU memory usage\n",
        "    sys.stdout.flush()\n",
        "    return chunk\n",
        "def init_child(model_, device_):\n",
        "    print(\"Initializing child process with model and device...\", flush=True)\n",
        "    sys.stdout.flush()\n",
        "    global model, device\n",
        "    model = model_\n",
        "    device = device_\n",
        "    print(\"Initialized child process with model and device.\", flush=True)\n",
        "    sys.stdout.flush()    "
      ]
    },
    {
      "cell_type": "code",
      "execution_count": null,
      "id": "9b0de510",
      "metadata": {},
      "outputs": [],
      "source": [
        "\n"
      ]
    },
    {
      "cell_type": "code",
      "execution_count": null,
      "id": "1463f8b3",
      "metadata": {},
      "outputs": [],
      "source": [
        "df_string.shape"
      ]
    },
    {
      "cell_type": "code",
      "execution_count": null,
      "id": "29a3b828",
      "metadata": {},
      "outputs": [],
      "source": [
        "df_string.sample(5)"
      ]
    },
    {
      "cell_type": "code",
      "execution_count": null,
      "id": "aa049907",
      "metadata": {},
      "outputs": [],
      "source": [
        "\n",
        "\n",
        "# Define the number of processes to use\n",
        "num_processes = torch.multiprocessing.cpu_count()\n",
        "print(f\"Using {num_processes} processes.\")\n",
        "# Split the data into chunks\n",
        "chunks = np.array_split(df_string, num_processes)\n",
        "print(f\"Data split into {len(chunks)} chunks.\")\n",
        "# Set up the multiprocessing pool\n",
        "print(\"Initializing multiprocessing pool...\")\n",
        "pool = torch.multiprocessing.Pool(processes=num_processes, initializer=init_child, initargs=(model, device))\n",
        "print(\"Multiprocessing pool created.\", flush=True)\n",
        "# Process the chunks in parallel\n",
        "results = []\n",
        "start_time = time.time()\n",
        "for i, chunk in enumerate(chunks):\n",
        "    print(f\"Processing chunk {i+1}/{len(chunks)}...\", flush=True)\n",
        "    sys.stdout.flush()\n",
        "    result = process_chunk(chunk)\n",
        "    results.append(result)\n",
        "    elapsed_time = time.time() - start_time\n",
        "    print(f\"Chunk {i+1}/{len(chunks)} processed in {elapsed_time:.2f} seconds.\", flush=True)\n",
        "    print(f\"Memory allocated: {torch.cuda.memory_allocated(device=device)/(1024**2):.2f} MB\", flush=True)\n",
        "    sys.stdout.flush()\n",
        "    \n",
        "# Combine the results from all processes\n",
        "final_result = pd.concat(results)\n",
        "print(\"Results combined.\")\n",
        "# Close the pool\n",
        "pool.close()\n",
        "pool.join()\n",
        "print(\"Pool closed.\")\n",
        "# Save the final result to a CSV file\n",
        "final_result.to_csv('similar_animes.csv', index=False)\n",
        "print(\"Result saved to file.\")"
      ]
    },
    {
      "attachments": {},
      "cell_type": "markdown",
      "id": "c8744a47",
      "metadata": {},
      "source": [
        "still taking so long time \n"
      ]
    },
    {
      "cell_type": "code",
      "execution_count": null,
      "id": "dd690faa",
      "metadata": {},
      "outputs": [],
      "source": [
        "import faiss\n",
        "import cProfile\n",
        "import pstats\n"
      ]
    },
    {
      "cell_type": "code",
      "execution_count": null,
      "id": "eee26dc6",
      "metadata": {},
      "outputs": [],
      "source": [
        "df_string = pd.read_csv(r'M:\\Anime Recommender\\data-history\\up-to-date-MAL\\anime_string_encodings_bert.csv',index_col=[0])"
      ]
    },
    {
      "cell_type": "code",
      "execution_count": null,
      "id": "8951fa3e",
      "metadata": {},
      "outputs": [],
      "source": [
        "type(df_string['cleaned_syn_encoding'].values[0])"
      ]
    },
    {
      "cell_type": "code",
      "execution_count": null,
      "id": "e60627a8",
      "metadata": {},
      "outputs": [],
      "source": [
        "df_string.head(5)"
      ]
    },
    {
      "cell_type": "code",
      "execution_count": null,
      "id": "3fd806c9",
      "metadata": {},
      "outputs": [],
      "source": [
        "df=df_string.sample(1000)\n",
        "df.sample(10)"
      ]
    },
    {
      "cell_type": "code",
      "execution_count": null,
      "id": "364579c9",
      "metadata": {},
      "outputs": [],
      "source": [
        "def get_top_k_similar_paragraphs(x,df, k=10):\n",
        "    import numpy as np\n",
        "    import pandas as pd\n",
        "    import faiss\n",
        "    encoding = x\n",
        "    if encoding is not None:\n",
        "        query_embedding = np.array(encoding, dtype=np.float32)\n",
        "        corpus_embeddings = np.stack(df['cleaned_syn_encoding'].values)\n",
        "\n",
        "        # Use Faiss to index the corpus embeddings\n",
        "        index = faiss.IndexFlatIP(query_embedding.size)\n",
        "        index.add(corpus_embeddings)\n",
        "\n",
        "        # Search the index to get the top k similar paragraphs\n",
        "        distances, indices = index.search(np.array([query_embedding]), k+1)\n",
        "        indices = indices.squeeze()[1:]\n",
        "        \n",
        "        return df.loc[indices, 'ID'].values\n",
        "    else:\n",
        "        return None"
      ]
    },
    {
      "cell_type": "code",
      "execution_count": null,
      "id": "f1c30024",
      "metadata": {},
      "outputs": [],
      "source": [
        "float(df['cleaned_syn_encoding'].values[100])"
      ]
    },
    {
      "cell_type": "code",
      "execution_count": null,
      "id": "e7c2d102",
      "metadata": {},
      "outputs": [],
      "source": [
        "df.head()"
      ]
    },
    {
      "cell_type": "code",
      "execution_count": null,
      "id": "198726d4",
      "metadata": {},
      "outputs": [],
      "source": [
        "from pandarallel import pandarallel\n",
        "import re\n",
        "pandarallel.initialize(progress_bar=True)\n",
        "\n",
        "# # df.apply(func)\n",
        "# match_number = re.compile('-?\\ *[0-9]+\\.?[0-9]*(?:[Ee]\\ *-?\\ *[0-9]+)?')\n",
        "# x=  [float(x) for x in re.findall(match_number, string(df['cleaned_syn_encoding'].to_list)] \n",
        "\n",
        "df['similar_paragraphs'] = df['cleaned_syn_encoding'].parallel_apply( get_top_k_similar_paragraphs, df =df)"
      ]
    },
    {
      "cell_type": "code",
      "execution_count": null,
      "id": "92aac3c4",
      "metadata": {},
      "outputs": [],
      "source": [
        "# Break down the data into smaller chunks\n",
        "chunk_size = 5\n",
        "chunks = [df[i:i + chunk_size] for i in range(0, len(df), chunk_size)]\n",
        "\n",
        "\n",
        "# Define the function to process each chunk\n",
        "def process_chunk(chunk):\n",
        "    chunk['similar_paragraphs'] = chunk['cleaned_syn_encoding'].apply(lambda x: get_top_k_similar_paragraphs(x, df))\n",
        "    return chunk\n",
        "\n",
        "# Create a Pool with the number of processes equal to the number of chunks\n",
        "with Pool(len(chunks)) as p:\n",
        "    cProfile.runctx(\"result = p.map(process_chunk, chunks)\", globals(), locals(), \"Profile.prof\")\n",
        "    \n",
        "# Concatenate the results\n",
        "df = pd.concat(result)"
      ]
    },
    {
      "cell_type": "code",
      "execution_count": null,
      "id": "b345cf48",
      "metadata": {},
      "outputs": [],
      "source": [
        "p = pstats.Stats(cProfile)\n",
        "p.strip_dirs().sort_stats(\"time\").print_stats()"
      ]
    },
    {
      "cell_type": "code",
      "execution_count": null,
      "id": "0e36c118",
      "metadata": {},
      "outputs": [],
      "source": [
        "df.head(20)"
      ]
    },
    {
      "cell_type": "code",
      "execution_count": null,
      "id": "8e416f5e",
      "metadata": {},
      "outputs": [],
      "source": [
        "def get_top_similar_animes(title, top_n=5):\n",
        "    index = df_string[df_string['title'] == title].index[0]\n",
        "    similar_indices = df_string['similar_paragraphs'][index][:top_n]\n",
        "    similar_animes = df_string.iloc[similar_indices]['title'].values\n",
        "    return similar_animes"
      ]
    },
    {
      "cell_type": "code",
      "execution_count": null,
      "id": "3d686369",
      "metadata": {},
      "outputs": [],
      "source": [
        "title = \"Naruto\"\n",
        "top_similar_animes = get_top_similar_animes(title, df_string, top_n=10)\n",
        "print(top_similar_animes)"
      ]
    },
    {
      "attachments": {},
      "cell_type": "markdown",
      "id": "4bbdb20e",
      "metadata": {},
      "source": [
        "It took so long lets find out why ?"
      ]
    },
    {
      "cell_type": "code",
      "execution_count": null,
      "id": "18382b53",
      "metadata": {},
      "outputs": [],
      "source": [
        "\n",
        "import cProfile"
      ]
    },
    {
      "cell_type": "code",
      "execution_count": null,
      "id": "f8eb1b45",
      "metadata": {},
      "outputs": [],
      "source": [
        "\n",
        "\n",
        "# Define the function to process each chunk\n",
        "def process_chunk(chunk):\n",
        "    df['similar_paragraphs'] = df['cleaned_syn_encoding'].apply(lambda x: get_top_k_similar_paragraphs(x, df))\n",
        "    return df\n",
        "\n"
      ]
    },
    {
      "cell_type": "code",
      "execution_count": null,
      "id": "c0c1d228",
      "metadata": {},
      "outputs": [],
      "source": [
        "# Create a Pool with the number of processes equal to the number of chunks\n",
        "with Pool(2) as p:\n",
        "    cProfile.runctx(\"result = p.map(process_chunk, df)\", globals(), locals(), \"Profile.prof\")"
      ]
    },
    {
      "cell_type": "code",
      "execution_count": null,
      "id": "59c1f34e",
      "metadata": {},
      "outputs": [],
      "source": [
        "import pstats\n",
        "\n",
        "p = pstats.Stats(\"profile_results\")\n",
        "p = pstats.Stats(cProfile)\n",
        "p.strip_dirs().sort_stats(\"time\").print_stats()"
      ]
    },
    {
      "cell_type": "code",
      "execution_count": null,
      "id": "233c08dd",
      "metadata": {},
      "outputs": [],
      "source": [
        "import tensorflow as tf\n",
        "import numpy as np\n",
        "import pandas as pd\n",
        "from scipy.spatial.distance import cosine\n",
        "\n",
        "\n",
        "# set the GPU as the device for TensorFlow\n",
        "physical_devices = tf.config.experimental.list_physical_devices('GPU')\n",
        "if len(physical_devices) > 0:\n",
        "    tf.config.experimental.set_memory_growth(physical_devices[0], True)\n",
        "    tf.config.experimental.set_visible_devices(physical_devices[0], 'GPU')\n",
        "    print(\"Using GPU\")\n",
        "else:\n",
        "    print(\"Using CPU\")\n"
      ]
    },
    {
      "cell_type": "code",
      "execution_count": null,
      "id": "61278db8",
      "metadata": {},
      "outputs": [],
      "source": [
        "# Load the string data:\n",
        "df_string=pd.read_csv(r'M:\\Anime Recommender\\data-history\\up-to-date-MAL\\anime_string_latest.csv')"
      ]
    },
    {
      "cell_type": "code",
      "execution_count": null,
      "id": "6b2a5247",
      "metadata": {},
      "outputs": [],
      "source": [
        "df_string.sample(3).T"
      ]
    },
    {
      "cell_type": "code",
      "execution_count": null,
      "id": "cb310bc0",
      "metadata": {},
      "outputs": [],
      "source": [
        "import tensorflow_hub as hub\n",
        "\n",
        "class UniversalSentenceEncoder:\n",
        "    def __init__(self, dimension=512):\n",
        "        self.dimension = dimension\n",
        "        try:\n",
        "            self.model = tf.keras.Sequential([\n",
        "                tf.keras.layers.Input(shape=(1,), dtype=tf.string),\n",
        "                hub.KerasLayer(\"https://tfhub.dev/google/universal-sentence-encoder/4\",\n",
        "                                output_shape=[self.dimension],\n",
        "                                trainable=False)\n",
        "            ])\n",
        "        except Exception as e:\n",
        "            print(\"An error occurred while creating the UniversalSentenceEncoder model:\", e)\n",
        "            self.model = None\n",
        "    def __call__(self, x):\n",
        "        if self.model is not None:\n",
        "            return self.model(x)\n",
        "        else:\n",
        "            print(\"The UniversalSentenceEncoder model is not available for use.\")"
      ]
    },
    {
      "cell_type": "code",
      "execution_count": null,
      "id": "c69261cb",
      "metadata": {},
      "outputs": [],
      "source": [
        "import tensorflow_hub as hub\n",
        "class UniversalSentenceEncoder:\n",
        "    def __init__(self, dimension=512):\n",
        "        self.dimension = dimension\n",
        "        self.model = tf.keras.Sequential([\n",
        "            tf.keras.layers.Input(shape=(1,), dtype=tf.string),\n",
        "            tf.keras.layers.Lambda(lambda x: tf.expand_dims(x, axis=0)),\n",
        "            hub.KerasLayer(\"https://tfhub.dev/google/universal-sentence-encoder/4\",\n",
        "                            output_shape=[self.dimension],\n",
        "                            trainable=False)\n",
        "        ])\n",
        "    def __call__(self, x):\n",
        "        return self.model(x)\n"
      ]
    },
    {
      "cell_type": "code",
      "execution_count": null,
      "id": "96800906",
      "metadata": {},
      "outputs": [],
      "source": [
        "# Initialize the encoding model\n",
        "encoding_model = UniversalSentenceEncoder(512)"
      ]
    },
    {
      "cell_type": "code",
      "execution_count": null,
      "id": "84166cfc",
      "metadata": {},
      "outputs": [],
      "source": [
        "def get_encoding(model, x):\n",
        "    return model(tf.constant(x)).numpy().flatten()\n",
        "\n",
        "def get_cosine_similarity(vec1, vec2):\n",
        "    return np.dot(vec1, vec2) / (np.linalg.norm(vec1) * np.linalg.norm(vec2))\n",
        "\n",
        "def get_top_k_similar_paragraphs(x, df, encoding_model, k=15):\n",
        "    encoding = get_encoding(encoding_model, [x])\n",
        "    distances = np.array([get_cosine_similarity(encoding, vec) for vec in df_string['cleaned_syn_encoding']])\n",
        "    closest_paragraphs_indices = np.argsort(-distances)[:k + 1][1:]\n",
        "    return df_string.iloc[closest_paragraphs_indices]['cleaned_syn']"
      ]
    },
    {
      "cell_type": "code",
      "execution_count": null,
      "id": "5803779b",
      "metadata": {},
      "outputs": [],
      "source": [
        "# Get the encodings for the paragraphs in the 'cleaned_syn' column\n",
        "df_string.loc[:,'cleaned_syn_encoding'] = df_string.loc[df_string['cleaned_syn'] != '', 'cleaned_syn'].apply(lambda x: get_encoding(encoding_model, [x]))"
      ]
    },
    {
      "cell_type": "code",
      "execution_count": null,
      "id": "a83c123f",
      "metadata": {},
      "outputs": [],
      "source": [
        "# Generate a new column 'similar_paragraphs' containing the top k similar paragraphs for each paragraph in the 'cleaned_syn' column\n",
        "df_string.loc[df_string['cleaned_syn'] != '', 'similar_paragraphs'] = df_string.loc[df_string['cleaned_syn'] != '', 'cleaned_syn'].apply(lambda x: get_top_k_similar_paragraphs(x, df, encoding_model))"
      ]
    }
  ],
  "metadata": {
    "colab": {
      "provenance": []
    },
    "kernelspec": {
      "display_name": "project",
      "language": "python",
      "name": "python3"
    },
    "language_info": {
      "codemirror_mode": {
        "name": "ipython",
        "version": 3
      },
      "file_extension": ".py",
      "mimetype": "text/x-python",
      "name": "python",
      "nbconvert_exporter": "python",
      "pygments_lexer": "ipython3",
      "version": "3.10.8"
    },
    "vscode": {
      "interpreter": {
        "hash": "53b5bf601465e97d3bc26103c3f6e93ae804cb5db8486c47b1991b59c7b6e7bf"
      }
    }
  },
  "nbformat": 4,
  "nbformat_minor": 5
}
