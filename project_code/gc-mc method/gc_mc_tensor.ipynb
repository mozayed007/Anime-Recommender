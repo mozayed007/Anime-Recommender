{
 "cells": [
  {
   "cell_type": "code",
   "execution_count": 1,
   "id": "ce80d6bf-1c1d-415b-a4bb-a92e34e7e326",
   "metadata": {
    "pycharm": {
     "name": "#%%\n"
    }
   },
   "outputs": [],
   "source": [
    "import matplotlib.pyplot as plt\n",
    "import seaborn as sns\n",
    "import numpy as np\n",
    "import pandas as pd"
   ]
  },
  {
   "cell_type": "code",
   "execution_count": 2,
   "id": "cf400a26-d7d1-4188-8348-2091a0c3534d",
   "metadata": {
    "pycharm": {
     "name": "#%%\n"
    }
   },
   "outputs": [],
   "source": [
    "import tensorflow as tf"
   ]
  },
  {
   "cell_type": "code",
   "execution_count": 3,
   "id": "a159e76b-80ed-4631-8a6d-8ecfa35d6bb2",
   "metadata": {
    "pycharm": {
     "name": "#%%\n"
    }
   },
   "outputs": [
    {
     "name": "stdout",
     "output_type": "stream",
     "text": [
      "Num GPUs Available:  1\n"
     ]
    }
   ],
   "source": [
    "print(\"Num GPUs Available: \", len(tf.config.experimental.list_physical_devices('GPU')))"
   ]
  },
  {
   "cell_type": "code",
   "execution_count": 4,
   "id": "b2f161a1-9ca5-432d-bcc8-0e87567667e6",
   "metadata": {
    "pycharm": {
     "name": "#%%\n"
    }
   },
   "outputs": [],
   "source": [
    "data = pd.read_csv(r\"M:\\Anime Recommender\\data\\up-to-date\\anime-jun.csv\")"
   ]
  },
  {
   "cell_type": "code",
   "execution_count": 5,
   "id": "a9d0a2bc",
   "metadata": {},
   "outputs": [
    {
     "data": {
      "text/html": [
       "<div>\n",
       "<style scoped>\n",
       "    .dataframe tbody tr th:only-of-type {\n",
       "        vertical-align: middle;\n",
       "    }\n",
       "\n",
       "    .dataframe tbody tr th {\n",
       "        vertical-align: top;\n",
       "    }\n",
       "\n",
       "    .dataframe thead th {\n",
       "        text-align: right;\n",
       "    }\n",
       "</style>\n",
       "<table border=\"1\" class=\"dataframe\">\n",
       "  <thead>\n",
       "    <tr style=\"text-align: right;\">\n",
       "      <th></th>\n",
       "      <th>id</th>\n",
       "      <th>title</th>\n",
       "      <th>media_type</th>\n",
       "      <th>mean</th>\n",
       "      <th>num_scoring_users</th>\n",
       "      <th>status</th>\n",
       "      <th>num_episodes</th>\n",
       "      <th>start_date</th>\n",
       "      <th>end_date</th>\n",
       "      <th>source</th>\n",
       "      <th>...</th>\n",
       "      <th>studios</th>\n",
       "      <th>synopsis</th>\n",
       "      <th>nsfw</th>\n",
       "      <th>created_at</th>\n",
       "      <th>updated_at</th>\n",
       "      <th>main_picture_medium</th>\n",
       "      <th>main_picture_large</th>\n",
       "      <th>alternative_titles_en</th>\n",
       "      <th>alternative_titles_ja</th>\n",
       "      <th>alternative_titles_synonyms</th>\n",
       "    </tr>\n",
       "  </thead>\n",
       "  <tbody>\n",
       "    <tr>\n",
       "      <th>0</th>\n",
       "      <td>5114</td>\n",
       "      <td>Fullmetal Alchemist: Brotherhood</td>\n",
       "      <td>tv</td>\n",
       "      <td>9.14</td>\n",
       "      <td>1849763</td>\n",
       "      <td>finished_airing</td>\n",
       "      <td>64.0</td>\n",
       "      <td>2009-04-05 00:00:00</td>\n",
       "      <td>2010-07-04 00:00:00</td>\n",
       "      <td>manga</td>\n",
       "      <td>...</td>\n",
       "      <td>['Bones']</td>\n",
       "      <td>After a horrific alchemy experiment goes wrong...</td>\n",
       "      <td>white</td>\n",
       "      <td>2008-08-21 03:35:22</td>\n",
       "      <td>2022-04-18 05:06:13</td>\n",
       "      <td>https://api-cdn.myanimelist.net/images/anime/1...</td>\n",
       "      <td>https://api-cdn.myanimelist.net/images/anime/1...</td>\n",
       "      <td>Fullmetal Alchemist: Brotherhood</td>\n",
       "      <td>鋼の錬金術師 FULLMETAL ALCHEMIST</td>\n",
       "      <td>['Hagane no Renkinjutsushi: Fullmetal Alchemis...</td>\n",
       "    </tr>\n",
       "    <tr>\n",
       "      <th>1</th>\n",
       "      <td>11061</td>\n",
       "      <td>Hunter x Hunter (2011)</td>\n",
       "      <td>tv</td>\n",
       "      <td>9.05</td>\n",
       "      <td>1491674</td>\n",
       "      <td>finished_airing</td>\n",
       "      <td>148.0</td>\n",
       "      <td>2011-10-02 00:00:00</td>\n",
       "      <td>2014-09-24 00:00:00</td>\n",
       "      <td>manga</td>\n",
       "      <td>...</td>\n",
       "      <td>['Madhouse', 'Studio Live']</td>\n",
       "      <td>Hunters devote themselves to accomplishing haz...</td>\n",
       "      <td>white</td>\n",
       "      <td>2011-07-27 08:41:39</td>\n",
       "      <td>2022-04-18 05:11:21</td>\n",
       "      <td>https://api-cdn.myanimelist.net/images/anime/1...</td>\n",
       "      <td>https://api-cdn.myanimelist.net/images/anime/1...</td>\n",
       "      <td>Hunter x Hunter</td>\n",
       "      <td>HUNTER×HUNTER（ハンター×ハンター）</td>\n",
       "      <td>['HxH (2011)']</td>\n",
       "    </tr>\n",
       "  </tbody>\n",
       "</table>\n",
       "<p>2 rows × 31 columns</p>\n",
       "</div>"
      ],
      "text/plain": [
       "      id                             title media_type  mean  \\\n",
       "0   5114  Fullmetal Alchemist: Brotherhood         tv  9.14   \n",
       "1  11061            Hunter x Hunter (2011)         tv  9.05   \n",
       "\n",
       "   num_scoring_users           status  num_episodes           start_date  \\\n",
       "0            1849763  finished_airing          64.0  2009-04-05 00:00:00   \n",
       "1            1491674  finished_airing         148.0  2011-10-02 00:00:00   \n",
       "\n",
       "              end_date source  ...                      studios  \\\n",
       "0  2010-07-04 00:00:00  manga  ...                    ['Bones']   \n",
       "1  2014-09-24 00:00:00  manga  ...  ['Madhouse', 'Studio Live']   \n",
       "\n",
       "                                            synopsis   nsfw  \\\n",
       "0  After a horrific alchemy experiment goes wrong...  white   \n",
       "1  Hunters devote themselves to accomplishing haz...  white   \n",
       "\n",
       "            created_at           updated_at  \\\n",
       "0  2008-08-21 03:35:22  2022-04-18 05:06:13   \n",
       "1  2011-07-27 08:41:39  2022-04-18 05:11:21   \n",
       "\n",
       "                                 main_picture_medium  \\\n",
       "0  https://api-cdn.myanimelist.net/images/anime/1...   \n",
       "1  https://api-cdn.myanimelist.net/images/anime/1...   \n",
       "\n",
       "                                  main_picture_large  \\\n",
       "0  https://api-cdn.myanimelist.net/images/anime/1...   \n",
       "1  https://api-cdn.myanimelist.net/images/anime/1...   \n",
       "\n",
       "              alternative_titles_en       alternative_titles_ja  \\\n",
       "0  Fullmetal Alchemist: Brotherhood  鋼の錬金術師 FULLMETAL ALCHEMIST   \n",
       "1                   Hunter x Hunter    HUNTER×HUNTER（ハンター×ハンター）   \n",
       "\n",
       "                         alternative_titles_synonyms  \n",
       "0  ['Hagane no Renkinjutsushi: Fullmetal Alchemis...  \n",
       "1                                     ['HxH (2011)']  \n",
       "\n",
       "[2 rows x 31 columns]"
      ]
     },
     "execution_count": 5,
     "metadata": {},
     "output_type": "execute_result"
    }
   ],
   "source": [
    "data.head(2)"
   ]
  },
  {
   "cell_type": "code",
   "execution_count": 8,
   "id": "a2bb5741",
   "metadata": {},
   "outputs": [
    {
     "data": {
      "text/plain": [
       "Index(['id', 'title', 'media_type', 'mean', 'num_scoring_users', 'status',\n",
       "       'num_episodes', 'start_date', 'end_date', 'source', 'num_list_users',\n",
       "       'popularity', 'num_favorites', 'rank', 'average_episode_duration',\n",
       "       'rating', 'start_season_year', 'start_season_season',\n",
       "       'broadcast_day_of_the_week', 'broadcast_start_time', 'genres',\n",
       "       'studios', 'synopsis', 'nsfw', 'created_at', 'updated_at',\n",
       "       'main_picture_medium', 'main_picture_large', 'alternative_titles_en',\n",
       "       'alternative_titles_ja', 'alternative_titles_synonyms'],\n",
       "      dtype='object')"
      ]
     },
     "execution_count": 8,
     "metadata": {},
     "output_type": "execute_result"
    }
   ],
   "source": [
    "data.columns"
   ]
  }
 ],
 "metadata": {
  "kernelspec": {
   "display_name": "Python 3 (ipykernel)",
   "language": "python",
   "name": "python3"
  },
  "language_info": {
   "codemirror_mode": {
    "name": "ipython",
    "version": 3
   },
   "file_extension": ".py",
   "mimetype": "text/x-python",
   "name": "python",
   "nbconvert_exporter": "python",
   "pygments_lexer": "ipython3",
   "version": "3.10.4"
  },
  "vscode": {
   "interpreter": {
    "hash": "53b5bf601465e97d3bc26103c3f6e93ae804cb5db8486c47b1991b59c7b6e7bf"
   }
  }
 },
 "nbformat": 4,
 "nbformat_minor": 5
}
