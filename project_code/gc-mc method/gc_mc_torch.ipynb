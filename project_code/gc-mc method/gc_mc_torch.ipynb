{
 "cells": [
  {
   "cell_type": "code",
   "execution_count": 1,
   "id": "a78d3459-5075-41c5-a491-546239d51b37",
   "metadata": {},
   "outputs": [],
   "source": [
    "import matplotlib.pyplot as plt\n",
    "import seaborn as sns\n",
    "import numpy as np\n",
    "import pandas as pd"
   ]
  },
  {
   "cell_type": "code",
   "execution_count": 2,
   "id": "98f5e5c9-44c3-4cce-9359-41d20d35bff9",
   "metadata": {},
   "outputs": [
    {
     "data": {
      "text/plain": [
       "'NVIDIA GeForce RTX 3060 Laptop GPU'"
      ]
     },
     "execution_count": 2,
     "metadata": {},
     "output_type": "execute_result"
    }
   ],
   "source": [
    "import torch\n",
    "torch.cuda.is_available() \n",
    "torch.cuda.get_device_name(0)"
   ]
  },
  {
   "cell_type": "code",
   "execution_count": 3,
   "id": "4e32f4da-7d3d-4895-8a0c-9937dafb1c7c",
   "metadata": {},
   "outputs": [],
   "source": [
    "data = pd.read_csv(r\"M:\\Anime Recommender\\data\\up-to-date\\anime-jun.csv\")"
   ]
  },
  {
   "cell_type": "code",
   "execution_count": 4,
   "id": "390d3d75",
   "metadata": {},
   "outputs": [
    {
     "data": {
      "text/html": [
       "<div>\n",
       "<style scoped>\n",
       "    .dataframe tbody tr th:only-of-type {\n",
       "        vertical-align: middle;\n",
       "    }\n",
       "\n",
       "    .dataframe tbody tr th {\n",
       "        vertical-align: top;\n",
       "    }\n",
       "\n",
       "    .dataframe thead th {\n",
       "        text-align: right;\n",
       "    }\n",
       "</style>\n",
       "<table border=\"1\" class=\"dataframe\">\n",
       "  <thead>\n",
       "    <tr style=\"text-align: right;\">\n",
       "      <th></th>\n",
       "      <th>id</th>\n",
       "      <th>title</th>\n",
       "      <th>media_type</th>\n",
       "      <th>mean</th>\n",
       "      <th>num_scoring_users</th>\n",
       "      <th>status</th>\n",
       "      <th>num_episodes</th>\n",
       "      <th>start_date</th>\n",
       "      <th>end_date</th>\n",
       "      <th>source</th>\n",
       "      <th>...</th>\n",
       "      <th>studios</th>\n",
       "      <th>synopsis</th>\n",
       "      <th>nsfw</th>\n",
       "      <th>created_at</th>\n",
       "      <th>updated_at</th>\n",
       "      <th>main_picture_medium</th>\n",
       "      <th>main_picture_large</th>\n",
       "      <th>alternative_titles_en</th>\n",
       "      <th>alternative_titles_ja</th>\n",
       "      <th>alternative_titles_synonyms</th>\n",
       "    </tr>\n",
       "  </thead>\n",
       "  <tbody>\n",
       "    <tr>\n",
       "      <th>24023</th>\n",
       "      <td>50687</td>\n",
       "      <td>Pochi Hana</td>\n",
       "      <td>movie</td>\n",
       "      <td>NaN</td>\n",
       "      <td>19</td>\n",
       "      <td>finished_airing</td>\n",
       "      <td>1.0</td>\n",
       "      <td>2016-12-02 00:00:00</td>\n",
       "      <td>2016-12-02 00:00:00</td>\n",
       "      <td>original</td>\n",
       "      <td>...</td>\n",
       "      <td>[]</td>\n",
       "      <td>A story about a young girl named Hana and her ...</td>\n",
       "      <td>white</td>\n",
       "      <td>2021-12-28 19:43:56</td>\n",
       "      <td>2022-04-24 17:00:05</td>\n",
       "      <td>https://api-cdn.myanimelist.net/images/anime/1...</td>\n",
       "      <td>https://api-cdn.myanimelist.net/images/anime/1...</td>\n",
       "      <td>NaN</td>\n",
       "      <td>ぽちはな</td>\n",
       "      <td>['PochiHana']</td>\n",
       "    </tr>\n",
       "    <tr>\n",
       "      <th>24024</th>\n",
       "      <td>51967</td>\n",
       "      <td>Zhui Meng Zhe</td>\n",
       "      <td>ona</td>\n",
       "      <td>NaN</td>\n",
       "      <td>0</td>\n",
       "      <td>finished_airing</td>\n",
       "      <td>1.0</td>\n",
       "      <td>2019-09-30 00:00:00</td>\n",
       "      <td>2019-09-30 00:00:00</td>\n",
       "      <td>original</td>\n",
       "      <td>...</td>\n",
       "      <td>[]</td>\n",
       "      <td>NaN</td>\n",
       "      <td>gray</td>\n",
       "      <td>2022-05-28 23:41:43</td>\n",
       "      <td>2022-05-28 23:41:43</td>\n",
       "      <td>https://api-cdn.myanimelist.net/images/anime/1...</td>\n",
       "      <td>https://api-cdn.myanimelist.net/images/anime/1...</td>\n",
       "      <td>NaN</td>\n",
       "      <td>追梦者</td>\n",
       "      <td>[]</td>\n",
       "    </tr>\n",
       "  </tbody>\n",
       "</table>\n",
       "<p>2 rows × 31 columns</p>\n",
       "</div>"
      ],
      "text/plain": [
       "          id          title media_type  mean  num_scoring_users  \\\n",
       "24023  50687     Pochi Hana      movie   NaN                 19   \n",
       "24024  51967  Zhui Meng Zhe        ona   NaN                  0   \n",
       "\n",
       "                status  num_episodes           start_date  \\\n",
       "24023  finished_airing           1.0  2016-12-02 00:00:00   \n",
       "24024  finished_airing           1.0  2019-09-30 00:00:00   \n",
       "\n",
       "                  end_date    source  ...  studios  \\\n",
       "24023  2016-12-02 00:00:00  original  ...       []   \n",
       "24024  2019-09-30 00:00:00  original  ...       []   \n",
       "\n",
       "                                                synopsis   nsfw  \\\n",
       "24023  A story about a young girl named Hana and her ...  white   \n",
       "24024                                                NaN   gray   \n",
       "\n",
       "                created_at           updated_at  \\\n",
       "24023  2021-12-28 19:43:56  2022-04-24 17:00:05   \n",
       "24024  2022-05-28 23:41:43  2022-05-28 23:41:43   \n",
       "\n",
       "                                     main_picture_medium  \\\n",
       "24023  https://api-cdn.myanimelist.net/images/anime/1...   \n",
       "24024  https://api-cdn.myanimelist.net/images/anime/1...   \n",
       "\n",
       "                                      main_picture_large  \\\n",
       "24023  https://api-cdn.myanimelist.net/images/anime/1...   \n",
       "24024  https://api-cdn.myanimelist.net/images/anime/1...   \n",
       "\n",
       "      alternative_titles_en alternative_titles_ja alternative_titles_synonyms  \n",
       "24023                   NaN                  ぽちはな               ['PochiHana']  \n",
       "24024                   NaN                   追梦者                          []  \n",
       "\n",
       "[2 rows x 31 columns]"
      ]
     },
     "execution_count": 4,
     "metadata": {},
     "output_type": "execute_result"
    }
   ],
   "source": [
    "data.tail(2)"
   ]
  },
  {
   "cell_type": "code",
   "execution_count": null,
   "id": "a312ce9c",
   "metadata": {},
   "outputs": [],
   "source": []
  }
 ],
 "metadata": {
  "kernelspec": {
   "display_name": "Python 3 (ipykernel)",
   "language": "python",
   "name": "python3"
  },
  "language_info": {
   "codemirror_mode": {
    "name": "ipython",
    "version": 3
   },
   "file_extension": ".py",
   "mimetype": "text/x-python",
   "name": "python",
   "nbconvert_exporter": "python",
   "pygments_lexer": "ipython3",
   "version": "3.10.4"
  },
  "vscode": {
   "interpreter": {
    "hash": "53b5bf601465e97d3bc26103c3f6e93ae804cb5db8486c47b1991b59c7b6e7bf"
   }
  }
 },
 "nbformat": 4,
 "nbformat_minor": 5
}
